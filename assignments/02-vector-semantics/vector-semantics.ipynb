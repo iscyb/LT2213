{
 "cells": [
  {
   "cell_type": "markdown",
   "metadata": {},
   "source": [
    "# A2: Vector Semantics\n",
    "\n",
    "Nikolai Ilinykh, Mehdi Ghanimifard, Wafia Adouane and Simon Dobnik\n",
    "\n",
    "\n",
    "The lab is an exploration and learning exercise to be done in a group and also in discussion with the teachers and other students.\n",
    "\n",
    "Write all your answers and the code in the appropriate boxes below.\n",
    "\n",
    "---\n",
    "\n",
    "In this lab we will look at how to build distributional semantic models from corpora and use semantic similarity captured by these models to do semantic tasks. We are also going to examine how different vector composition functions for phrases affect both the model and the learned information about similarities.  \n",
    "\n",
    "Note that this lab uses a code from `dist_erk.py`, which contains functions that highly resemble those shown during the lecture. In the end, you can use either of the functions (from the lecture / from the file) to solve the tasks."
   ]
  },
  {
   "cell_type": "code",
   "execution_count": 1,
   "metadata": {},
   "outputs": [],
   "source": [
    "# the following command simply imports all the methods from that code.\n",
    "from dist_erk import *\n",
    "import numpy as np\n",
    "import os"
   ]
  },
  {
   "cell_type": "markdown",
   "metadata": {},
   "source": [
    "## 1. Loading a corpus\n",
    "\n",
    "**Important**: All necessary files which are used in this notebook are available on mlt-gpu, check `/srv/data/computational-semantics-assignment-02`.\n",
    "\n",
    "To train a distributional model, we first need a sufficiently large collection of texts which contain different words used frequently enough in different contexts. Here we will use a section of the Wikipedia corpus (`wikipedia.txt`. This file has been borrowed from another lab by [Richard Johansson](http://www.cse.chalmers.se/~richajo/).\n",
    "\n",
    "When unpacked, the file is 151mb, hence if you are using the MLT servers you should store it in a temporary folder outside your home and adjust the `corpus_dir` path below.  \n",
    "<!-- <It may already exist in `/opt/mlt/courses/cl2015/a5`.> -->\n"
   ]
  },
  {
   "cell_type": "code",
   "execution_count": 2,
   "metadata": {},
   "outputs": [
    {
     "data": {
      "text/plain": [
       "['wikipedia.txt',\n",
       " 'ktw_wikipediaktw.npy',\n",
       " 'ppmi_wikipediaktw.npy',\n",
       " 'raw_wikipediaktw.npy',\n",
       " 'sub_glov.npy',\n",
       " 'svd50_wikipedia10k.npy']"
      ]
     },
     "execution_count": 2,
     "metadata": {},
     "output_type": "execute_result"
    }
   ],
   "source": [
    "corpus_dir = '/srv/data/computational-semantics-assignment-02'\n",
    "os.listdir(corpus_dir)"
   ]
  },
  {
   "cell_type": "markdown",
   "metadata": {},
   "source": [
    "## 2. Building a model\n",
    "\n",
    "Now you are ready to build the model.  \n",
    "Using the methods from the code imported above build three word matrices with 1000 dimensions as follows:  \n",
    "\n",
    "(i) with raw counts (saved to a variable `space_1k`);  \n",
    "(ii) with PPMI (`ppmispace_1k`);  \n",
    "(iii) with reduced dimensions SVD (`svdspace_1k`).  \n",
    "For the latter use `svddim=5`. **[5 marks]**\n",
    "\n",
    "Your task is to replace `...` with function calls. Functions are imported from `dist_erk.py` earlier, and they largely resemble functions shown during the lecture."
   ]
  },
  {
   "cell_type": "code",
   "execution_count": 3,
   "metadata": {},
   "outputs": [
    {
     "name": "stdout",
     "output_type": "stream",
     "text": [
      "reading file wikipedia.txt\n",
      "create count matrices\n",
      "reading file wikipedia.txt\n",
      "ppmi transform\n",
      "svd transform\n",
      "done.\n"
     ]
    }
   ],
   "source": [
    "numdims = 1000\n",
    "svddim = 5\n",
    "\n",
    "# which words to use as targets and context words?\n",
    "# we need to count the words and keep only the N most frequent ones\n",
    "# which function would you use here with which variable?\n",
    "ktw = do_word_count(corpus_dir, numdims)\n",
    "\n",
    "wi = make_word_index(ktw) # word index\n",
    "words_in_order = [w for w in wi.values()] #what order?\n",
    "\n",
    "# create different spaces (the original matrix space, the ppmi space, the svd space)\n",
    "# which functions with which arguments would you use here?\n",
    "print('create count matrices')\n",
    "space_1k = make_space(corpus_dir, wi, numdims)\n",
    "print('ppmi transform')\n",
    "ppmispace_1k = ppmi_transform(space_1k, wi)\n",
    "print('svd transform')\n",
    "\n",
    "# You could apply SVD on both PMI and raw count space. Since PMI is regarded as a better approach than raw count in practice u'd probably use SVD of PMI space.\n",
    "svdspace_1k = svd_transform(ppmispace_1k, numdims, svddim)\n",
    "\n",
    "print('done.')"
   ]
  },
  {
   "cell_type": "code",
   "execution_count": 4,
   "metadata": {},
   "outputs": [
    {
     "name": "stdout",
     "output_type": "stream",
     "text": [
      "dimensions\n",
      "space_1k 1000 1000\n",
      "ppmispace_1k 1000 1000\n",
      "svdspace_1k 1000 5\n"
     ]
    }
   ],
   "source": [
    "print('dimensions')\n",
    "print('space_1k', len(space_1k.keys()), len(space_1k[next(iter(space_1k))]))\n",
    "print('ppmispace_1k', len(ppmispace_1k.keys()), len(ppmispace_1k[next(iter(ppmispace_1k))]))\n",
    "print('svdspace_1k', len(svdspace_1k.keys()), len(svdspace_1k[next(iter(svdspace_1k))]))"
   ]
  },
  {
   "cell_type": "code",
   "execution_count": 5,
   "metadata": {},
   "outputs": [
    {
     "name": "stdout",
     "output_type": "stream",
     "text": [
      "house: [2554 3774 3105  567  962  631  443  185  311  189  131   28   93  169\n",
      "   81  125  151  408  194   90   79   29  217  184   62   15   31   70\n",
      "   10    1   41   21    1   31   37    1   30    5   25    7    3   20\n",
      "   11    1   32   36    2    5   66    4    0   46    8   18   28    0\n",
      "   20    7    8   16   10   40    0  175   10    2    7   19    1  174\n",
      "   11    3    1    6    0    0    0   10    9   11    7   24    4    4\n",
      "   14   23   58    7    0   10    2    3   10    6   18    6   13    3\n",
      "   22    0    3    5    3    7   14    3   40   20   19   15    6    8\n",
      "   24    4    5    1   19    0    3    1    0   14    0   14   53    7\n",
      "    7   11    6    5    5    4   12    6   53    1    1  433    4    0\n",
      "    5    7    7   12    1    1    3    4   17    8   16    1    2   31\n",
      "    1   12   14    1   44    6   14    9   38    7    2    6    8    1\n",
      "   10    6   10    1    9    7    9    4    3   10    0   11    3    2\n",
      "    0    2   11   37    2    0    2    1    5    9   10   16   88    6\n",
      "    0   21    1    1    0    2   47    3   27    7    0    2   13    1\n",
      "    2    0    5   31    0    1    0    3   10    0    1    0    3    3\n",
      "   17    1    1   16    3    7    4    7   15    4    0    0    2    5\n",
      "    0    2    0    5    0    9    0    0    8    0   10    0    0    0\n",
      "    2    0    1    3    1    3   15    1    9    0   19   14    0    0\n",
      "    3    2   18    3    1    3    2   19    5    2    4    1   10    6\n",
      "    0    3    3    6    4    2   25    4    6    3    1   25   10   15\n",
      "    3   10   15    1   10    1    8    1   13    1    2    9    9    1\n",
      "    4    1   25    0    4    6    5    5   36    0    2    2    2    0\n",
      "    0    2    3    3    0    1    4    6    5    0   50    2    5    2\n",
      "   14    6    2    2    4    1    9    4    5    3    1    0   12    3\n",
      "    3    2    2    0    0    1    4    7   12    5    0    2    1    2\n",
      "    3    4    7    3    5    0   29    7    1    1    0    3    3    3\n",
      "   10    0   14    2    0    2    4    6    0    5    0    0    1    1\n",
      "    4    1    1    0    0    0    0    3   20    0    0    2    1    5\n",
      "    3    8    3    5    1    2   66    1    2   19    2    1    3    3\n",
      "   21    5    4    2    2    0    4    3    5    0    7    1    6    1\n",
      "    3    3    1    0    3    0    2    0   89    2    3    1    1   14\n",
      "    0    2    1    9    2    3    2    4    2    0   25    0    0   23\n",
      "    0    6    2    1    3    0    2    5    0    4    4    3    0    4\n",
      "   58    3    1    6    2    4    3    3   11    1    1    1   10    0\n",
      "    7    3    1    6    1   18    1    0    4    2    0    8    5    2\n",
      "    0    0    0    0    5    1    2    1    1    3    1    2    1    1\n",
      "    0    6    1    4    1    3   20    1    0    5    2    5    2    1\n",
      "    0    0    0    2    6    1    1    0    1    1    1    0    0    3\n",
      "    3    0    0    6    6   74    3    0   13    5    2    2    1    5\n",
      "    3    3    1    7    4    0    0    2    3    0    4    0    4    1\n",
      "    0    2    5    2    1   14    2    0    0   19    0    1    2    1\n",
      "    0    3    2    0    0    3    1    3    3    2    7   18    7    6\n",
      "    6    0    1    9    1   10    2    0    2    0    2    4    0    0\n",
      "    1    2    0    1    0    2    0    0    0    2    1    2    2    0\n",
      "    3    2    2    0    0    1    2    3    1    1    1    2    0    0\n",
      "    3    0    7    2   39    0   14    0    1    1    0    1    5    3\n",
      "   11    0    3    0    1    1    0    0    1    9    2    1    0   11\n",
      "    1    3    7    0    0    0   32    1    0    0    0    1    1    3\n",
      "    0    9    0    2    0    1    3    2    6    0    3    0    0    2\n",
      "    3    0    1    0    1    4    0    0    1    1    0    0    5   21\n",
      "    2    1    1    3    0    1    7    1    3    4    0    5    3    0\n",
      "    7    2    0    4    2    0    2    1    4    4    0    0    0    5\n",
      "    3    2    2    0    4    0   23    2    2    2    4    0    1    0\n",
      "    4    0    3    5    3    0    8    0    1   16    1    2    2    7\n",
      "    0    0    1   11    1    0    4    0    1    0    1    2    1    5\n",
      "    0   97    0    2    0    3    0    8    1   14    4    9    2    3\n",
      "    1    1    0    3    4    0    5    1    5    2    0    0    0    2\n",
      "    1    2    1    1    1    1   12    0    2    5    1    0    0   13\n",
      "    2    0    0    0    2    2    0    0    3    1    1    1    1    0\n",
      "    1    2    1    0    0    0   10    0    1    0    1    1    1    1\n",
      "    0    1    0    0    3    2    5    0    0    2    1    0   23    0\n",
      "    0    4    0    1    0    0    0    1    1    2    1    0    1    0\n",
      "    0    4    1    0    1    1    5    1    1    0    1    0    0    0\n",
      "    1    0    0    2    2    3    0    1    0    4    3    3    1    4\n",
      "    0    0    0    6    1    2    1    0    5    3    0    0    1    2\n",
      "    0    5    0    0    2    1    1    4   15    0    0    1    1    3\n",
      "    1    0    1    4    1    1    2    8    1    3    0    0    0    0\n",
      "    1    3    2    1    0    1    0    2    0    0    0    0    1    1\n",
      "    0    1    3    7    0    0   42    4    0    1    2    3    1    0\n",
      "    1    3    2    0    0    4    0    0    0    4    2    0    0    8\n",
      "    2    0    1   15    0    0]\n",
      "(1000,)\n"
     ]
    }
   ],
   "source": [
    "# now, to test the space, you can print vector representation for some words\n",
    "print('house:', space_1k['house'])\n",
    "print(np.shape(space_1k['house']))"
   ]
  },
  {
   "cell_type": "markdown",
   "metadata": {},
   "source": [
    "Oxford Advanced Dictionary has 185,000 words, hence 1,000 words is not representative. We trained a model with 10,000 words, and 50 dimensions on truncated SVD. It took 40 minutes on a laptop. All matrices are available on mlt-gpu: `ktw_wikipediaktw.npy`, `raw_wikipediaktw.npy`, `ppmi_wikipediaktw.npy`, `svd50_wikipedia10k.npy`. Make sure they are in your path, because they will be loaded below."
   ]
  },
  {
   "cell_type": "code",
   "execution_count": 6,
   "metadata": {},
   "outputs": [
    {
     "data": {
      "text/plain": [
       "['wikipedia.txt',\n",
       " 'ktw_wikipediaktw.npy',\n",
       " 'ppmi_wikipediaktw.npy',\n",
       " 'raw_wikipediaktw.npy',\n",
       " 'sub_glov.npy',\n",
       " 'svd50_wikipedia10k.npy']"
      ]
     },
     "execution_count": 6,
     "metadata": {},
     "output_type": "execute_result"
    }
   ],
   "source": [
    "os.listdir(corpus_dir + '/')"
   ]
  },
  {
   "cell_type": "code",
   "execution_count": 7,
   "metadata": {},
   "outputs": [
    {
     "name": "stdout",
     "output_type": "stream",
     "text": [
      "Please wait...\n",
      "Done.\n"
     ]
    }
   ],
   "source": [
    "import numpy as np\n",
    "\n",
    "numdims = 10000\n",
    "svddim = 50\n",
    "\n",
    "print('Please wait...')\n",
    "ktw_10k       = np.load(corpus_dir + '/ktw_wikipediaktw.npy', allow_pickle=True)\n",
    "space_10k     = np.load(corpus_dir + '/raw_wikipediaktw.npy', allow_pickle=True).all()\n",
    "ppmispace_10k = np.load(corpus_dir + '/ppmi_wikipediaktw.npy', allow_pickle=True).all()\n",
    "svdspace_10k  = np.load(corpus_dir + '/svd50_wikipedia10k.npy', allow_pickle=True).all()\n",
    "print('Done.')\n"
   ]
  },
  {
   "cell_type": "code",
   "execution_count": 8,
   "metadata": {},
   "outputs": [
    {
     "name": "stdout",
     "output_type": "stream",
     "text": [
      "house: [2554 3774 3105 ...    0    0    0]\n"
     ]
    }
   ],
   "source": [
    "# testing semantic space\n",
    "print('house:', space_10k['house'])"
   ]
  },
  {
   "cell_type": "markdown",
   "metadata": {},
   "source": [
    "## 3. Testing semantic similarity\n",
    "\n",
    "The file `similarity_judgements.txt` (a copy is included with this notebook) contains 7,576 pairs of words and their lexical and visual similarities (based on the pictures) collected through crowd-sourcing using Mechanical Turk as described in [1]. The score range from 1 (highly dissimilar) to 5 (highly similar). Note: this is a different dataset from the phrase similarity dataset we discussed during the lecture (the one from [2]). For more information, please read the papers.\n",
    "\n",
    "The following code will transform similarity scores into a Python-friendly format:"
   ]
  },
  {
   "cell_type": "code",
   "execution_count": 109,
   "metadata": {},
   "outputs": [
    {
     "name": "stdout",
     "output_type": "stream",
     "text": [
      "number of available words to test: 12\n",
      "number of available word pairs to test: 774\n"
     ]
    }
   ],
   "source": [
    "word_pairs = [] # test suit word pairs\n",
    "semantic_similarity = [] \n",
    "visual_similarity = []\n",
    "test_vocab = set()\n",
    "\n",
    "for index, line in enumerate(open('similarity_judgements.txt')):\n",
    "    data = line.strip().split('\\t')\n",
    "    if index > 0 and len(data) == 3:\n",
    "        w1, w2 = tuple(data[0].split('#'))\n",
    "        # it will check if both words from each pair exist in the word matrix.\n",
    "        if w1 in ktw_10k and w2 in ktw_10k:\n",
    "            word_pairs.append((w1, w2))\n",
    "            test_vocab.update([w1, w2])\n",
    "            semantic_similarity.append(float(data[1]))\n",
    "            visual_similarity.append(float(data[2]))\n",
    "        \n",
    "print('number of available words to test:', len(test_vocab-(test_vocab-set(ktw))))\n",
    "print('number of available word pairs to test:', len(word_pairs))\n",
    "#list(zip(word_pairs, visual_similarity, semantic_similarity))"
   ]
  },
  {
   "cell_type": "markdown",
   "metadata": {},
   "source": [
    "Now we are going to test how the cosine similarity between vectors of each of the three spaces (normal space, ppmi, svd) compares with the human similarity judgements for the words in the similarity dataset. Which of the three spaces best approximates human judgements?\n",
    "\n",
    "For comparison of several scores, we can use [Spearman correlation coefficient](https://en.wikipedia.org/wiki/Spearman's_rank_correlation_coefficient) which is implemented in `scipy.stats.spearmanr` [here](https://docs.scipy.org/doc/scipy/reference/generated/scipy.stats.spearmanr.html). The values of the Sperman correlation coefficient range from -1, 0 to 1, where 0 indicates no correlation, 1 perfect correaltion and -1 negative correlation. Hence, the greater the number the better the similarity scores align. The p values tells us if the coefficient is statistically significant. For this to be the case, it must be less than or equal to $< 0.05$.\n",
    "\n",
    "Here is how you can calculate Pearson's correlation coefficient betweeen the scores of visual similarity and semantic similarity of the available words in the test suite:"
   ]
  },
  {
   "cell_type": "code",
   "execution_count": 110,
   "metadata": {},
   "outputs": [
    {
     "data": {
      "text/plain": [
       "155"
      ]
     },
     "execution_count": 110,
     "metadata": {},
     "output_type": "execute_result"
    }
   ],
   "source": [
    "len(test_vocab)"
   ]
  },
  {
   "cell_type": "code",
   "execution_count": 111,
   "metadata": {},
   "outputs": [
    {
     "name": "stdout",
     "output_type": "stream",
     "text": [
      "Visual Similarity vs. Semantic Similarity:\n",
      "rho     = 0.7122\n",
      "p-value = 0.0000\n"
     ]
    }
   ],
   "source": [
    "from scipy import stats\n",
    "\n",
    "rho, pval = stats.spearmanr(semantic_similarity, visual_similarity)\n",
    "print(\"\"\"Visual Similarity vs. Semantic Similarity:\n",
    "rho     = {:.4f}\n",
    "p-value = {:.4f}\"\"\".format(rho, pval))\n"
   ]
  },
  {
   "cell_type": "markdown",
   "metadata": {},
   "source": [
    "Let's now calculate the cosine similarity scores of all word pairs in an ordered list using all three matrices. **[6 marks]**"
   ]
  },
  {
   "cell_type": "code",
   "execution_count": 114,
   "metadata": {},
   "outputs": [],
   "source": [
    "raw_similarities  = [cosine(w1,w2,space_10k) for w1, w2 in word_pairs]\n",
    "ppmi_similarities = [cosine(w1,w2,ppmispace_10k) for w1, w2 in word_pairs]\n",
    "svd_similarities  = [cosine(w1,w2,svdspace_10k) for w1, w2 in word_pairs]"
   ]
  },
  {
   "cell_type": "markdown",
   "metadata": {},
   "source": [
    "Now, calculate correlation coefficients between lists of similarity scores and the real semantic similarity scores from the experiment. The scores of what model best correlates them? Is this expected? **[6 marks]**"
   ]
  },
  {
   "cell_type": "code",
   "execution_count": 115,
   "metadata": {},
   "outputs": [
    {
     "name": "stdout",
     "output_type": "stream",
     "text": [
      "Cosine Similarities vs. Semantic Similarity:\n",
      " raw_similarities:\n",
      "    rho     = 0.1522\n",
      "    p-value = 0.0000\n",
      " ppmi_similarities:\n",
      "    rho     = 0.4547\n",
      "    p-value = 0.0000\n",
      " svd_similarities:\n",
      "    rho     = 0.4232\n",
      "    p-value = 0.0000\n"
     ]
    }
   ],
   "source": [
    "cosine_similarities = {\n",
    "    'raw_similarities':raw_similarities,\n",
    "    'ppmi_similarities':ppmi_similarities,\n",
    "    'svd_similarities':svd_similarities\n",
    "}\n",
    "\n",
    "print(\"Cosine Similarities vs. Semantic Similarity:\")\n",
    "for space_name, cosine_sim in cosine_similarities.items():\n",
    "    rho, pval = stats.spearmanr(cosine_sim, semantic_similarity)\n",
    "    \n",
    "    print(\"\"\" {}:\n",
    "    rho     = {:.4f}\n",
    "    p-value = {:.4f}\"\"\".format(space_name, rho, pval))"
   ]
  },
  {
   "cell_type": "markdown",
   "metadata": {},
   "source": [
    "**answer**: \n",
    "\n",
    "All space's similarity scores falls within the 5% p-value threshold. However, raw_similarities clearly have the weakest correlation with the \"true\" semantic and visual similarities. \n",
    "\n",
    "PMI on the other hand has the strongest correlation, and svd comes out slightly short handed. This is not too surprising as dimensionality reduction reduces available information in the data. SVD does however increase generalization and is less prone to overfit. As the models(spaces) are fit on a completely seperate data set from the test data, it is hard to argue that PMI wins due to overfitting. Thus I conclude that PMI is the best model. \n",
    "\n",
    "It would be interesting to see SVD results for different dimensions.\n"
   ]
  },
  {
   "cell_type": "markdown",
   "metadata": {},
   "source": [
    "We can also calculate correlation coefficients between lists of cosine similarity scores and the real visual similarity scores from the experiment. Which similarity model best correlates with them? How do the correlation coefficients compare with those from the previous comparison - and can you speculate why do we get such results? **[7 marks]**"
   ]
  },
  {
   "cell_type": "code",
   "execution_count": 116,
   "metadata": {},
   "outputs": [
    {
     "name": "stdout",
     "output_type": "stream",
     "text": [
      "Cosine Similarities vs. Visual Similarity:\n",
      " raw_similarities:\n",
      "    rho     = 0.1212\n",
      "    p-value = 0.0007\n",
      " ppmi_similarities:\n",
      "    rho     = 0.3838\n",
      "    p-value = 0.0000\n",
      " svd_similarities:\n",
      "    rho     = 0.3097\n",
      "    p-value = 0.0000\n"
     ]
    }
   ],
   "source": [
    "cosine_similarities = {\n",
    "    'raw_similarities':raw_similarities,\n",
    "    'ppmi_similarities':ppmi_similarities,\n",
    "    'svd_similarities':svd_similarities\n",
    "}\n",
    "\n",
    "print(\"Cosine Similarities vs. Visual Similarity:\")\n",
    "for space_name, cosine_sim in cosine_similarities.items():\n",
    "    rho, pval = stats.spearmanr(cosine_sim, visual_similarity)\n",
    "    \n",
    "    print(\"\"\" {}:\n",
    "    rho     = {:.4f}\n",
    "    p-value = {:.4f}\"\"\".format(space_name, rho, pval))"
   ]
  },
  {
   "cell_type": "markdown",
   "metadata": {},
   "source": [
    "**Your answer should go here:**\n",
    "\n",
    "The same thought process as in the last question/answer can be applied here as well, since the results are quite similar. This is quite expected as we knew already that the \"true\" visual and semantic similarities were correlated by rho = 0.71.\n",
    "\n",
    "The correlation is lower for all models. This is not surprising as the models are fit on a text/semantic based dataset (corpora). \n",
    "\n",
    "Interestingly raw_similarities have a very similar result for semantic and visual.\n",
    "\n",
    "\n"
   ]
  },
  {
   "cell_type": "markdown",
   "metadata": {},
   "source": [
    "## 4. Operations on similarities"
   ]
  },
  {
   "cell_type": "markdown",
   "metadata": {},
   "source": [
    "We can perform mathematical operations on vectors to derive meaning predictions.\n",
    "\n",
    "For example, we can perform `king - man` and add the resulting vector to `woman` and we hope to get the vector for `queen`. Also, what would be the result of `stockholm - sweden + denmark`? Why? **[3 marks]**\n",
    "\n",
    "If you want to learn more about vector differences between words (and words in analogy relations), check [this paper](https://aclanthology.org/P16-1158.pdf)."
   ]
  },
  {
   "cell_type": "markdown",
   "metadata": {},
   "source": [
    "**Your answer should go here:**\n",
    "\n",
    "Expected result: stockholm - sweden + denmark = copenhagen\n",
    "\n",
    "For me subtraction is the easiest to interpret. The space is designed to measure similarities, so in this sense subtraction removes all similarities between the words. What remains are the differences between the words. It is not intuitively obvious to me as to why this remaining difference would result in a logical word vector. From the paper: \"Remarkably, since the model is not trained for this task, the relational structure of the vector space appears to be an emergent property.\" - I agree this is remarkable. \n",
    "\n",
    "This is also heavily dependent on the data set. One issue with vector models are that they are not pure language models, but also simply statistical models. Let's say that most busses in a corpus are red, and very few other things in the corpus are red. In this case the model will relate red with bus and their word vectors becomes similar. This could lead to the case of airplane - wings = red, instead of the expected, logical, bus\n",
    "\n"
   ]
  },
  {
   "cell_type": "markdown",
   "metadata": {},
   "source": [
    "Here is some helpful code that allows us to calculate such comparisons."
   ]
  },
  {
   "cell_type": "code",
   "execution_count": 15,
   "metadata": {},
   "outputs": [],
   "source": [
    "from scipy.spatial import distance\n",
    "\n",
    "def normalize(vec):\n",
    "    return vec / veclen(vec)\n",
    "\n",
    "def find_similar_to(vec1, space):\n",
    "    # vector similarity funciton\n",
    "    #sim_fn = lambda a, b: 1-distance.euclidean(normalize(a), normalize(b))\n",
    "    #sim_fn = lambda a, b: 1-distance.correlation(a, b)\n",
    "    #sim_fn = lambda a, b: 1-distance.cityblock(normalize(a), normalize(b))\n",
    "    #sim_fn = lambda a, b: 1-distance.chebyshev(normalize(a), normalize(b))\n",
    "    #sim_fn = lambda a, b: np.dot(normalize(a), normalize(b))\n",
    "    sim_fn = lambda a, b: 1-distance.cosine(a, b)\n",
    "    \n",
    "    sims = [\n",
    "        (word2, sim_fn(vec1, space[word2]))\n",
    "        for word2 in space.keys()\n",
    "    ]\n",
    "    return sorted(sims, key = lambda p:p[1], reverse=True)"
   ]
  },
  {
   "cell_type": "markdown",
   "metadata": {},
   "source": [
    "Here is how you apply this code. Comment on the results you get. **[3 marks]**"
   ]
  },
  {
   "cell_type": "code",
   "execution_count": 54,
   "metadata": {},
   "outputs": [
    {
     "data": {
      "text/plain": [
       "[('long', 0.8733111261346901),\n",
       " ('above', 0.8259671977311955),\n",
       " ('around', 0.8030776291120685),\n",
       " ('sun', 0.7692439111243973),\n",
       " ('just', 0.7678481974778111),\n",
       " ('wide', 0.767257431992253),\n",
       " ('each', 0.7665960260861158),\n",
       " ('circle', 0.7647746702909336),\n",
       " ('length', 0.7601066921319761),\n",
       " ('almost', 0.7542351860536628)]"
      ]
     },
     "execution_count": 54,
     "metadata": {},
     "output_type": "execute_result"
    }
   ],
   "source": [
    "short = normalize(svdspace_10k['short'])\n",
    "light = normalize(svdspace_10k['light'])\n",
    "long = normalize(svdspace_10k['long'])\n",
    "heavy = normalize(svdspace_10k['heavy'])\n",
    "\n",
    "find_similar_to(light - (heavy - long), svdspace_10k)[:10]\n",
    "#find_similar_to(light - normalize(heavy - long), svdspace_10k)[:10]"
   ]
  },
  {
   "cell_type": "markdown",
   "metadata": {},
   "source": [
    "**Your answer should go here:**\n",
    "\n",
    "light - (heavy - long) = (light - heavy) + long ) = **outcome**  => light - heavy =**outcome** - long. So I expect the outcome to be whatever **outcome** is to long as light is to heavy - which would be short. This is however not one of the word top 10 similar words. Why this is the case is hard to speculate, but in short the model is simply not perfect and a result of the data we have. With infinite data I would expect short to come out with a high similarity (but not nessecarily 1.0).\n"
   ]
  },
  {
   "cell_type": "markdown",
   "metadata": {},
   "source": [
    "Find 5 similar pairs of pairs of words and test them. Hint: Google for `word analogies examples`. You can also construct analogies that are less lexical but more grammatical, e.g. `see, saw, leave, ?` or analogies that are based on world knowledge as in the [Google analogy dataset](http://download.tensorflow.org/data/questions-words.txt) from [3]. Does the resulting vector similarity confirm your expectations? But remember you can only do this if the words are contained in our vector space with 10,000 dimensions. **[10 marks]**"
   ]
  },
  {
   "cell_type": "code",
   "execution_count": 56,
   "metadata": {},
   "outputs": [
    {
     "name": "stdout",
     "output_type": "stream",
     "text": [
      "white - black + down = up\n",
      "down:0.95, off:0.89, up:0.87, back:0.87, away:0.86, cut:0.81, onto:0.8, broken:0.77, hand:0.77, into:0.77 \n",
      "\n",
      "speak - sing + dance = walk\n",
      "folk:0.87, culture:0.84, classical:0.83, traditional:0.82, speaking:0.81, dance:0.8, latin:0.8, musical:0.79, contemporary:0.79, music:0.78 \n",
      "\n",
      "cool - cold + hot = warm\n",
      "cool:0.89, hot:0.87, lips:0.79, wet:0.78, sweet:0.77, honey:0.77, bag:0.77, loud:0.76, rough:0.76, stick:0.75 \n",
      "\n",
      "desert - mountain + tall = dry\n",
      "tall:0.85, submerged:0.77, metre:0.73, foot:0.72, thick:0.71, roughly:0.71, meter:0.7, feet:0.69, covering:0.67, dense:0.66 \n",
      "\n",
      "night - day + left = right\n",
      "left:0.87, turned:0.84, shot:0.82, behind:0.81, went:0.8, back:0.79, leaving:0.78, off:0.77, broke:0.77, down:0.77 \n",
      "\n"
     ]
    }
   ],
   "source": [
    "def v(word):\n",
    "    return normalize(svdspace_10k[word])\n",
    "\n",
    "def nice_list(sim_list, n=10):\n",
    "    return ', '.join([f'{w}:{round(s,2)}' for w,s in sim_list[0:n]])\n",
    "\n",
    "# tree : leaf :: flower : petal\n",
    "# Tree is to leaf as flower is to petal.\n",
    "# x1:x2 :: y1:y2\n",
    "    \n",
    "# x1-x2 + y2 = y1\n",
    "#white : black :: up : down \n",
    "simi = find_similar_to(v('white') - v('black') + v('down'), svdspace_10k)[:10] #expect 'up'\n",
    "print('white - black + down = up')\n",
    "print(nice_list(simi), '\\n')\n",
    "#speak : sing :: walk : dance\n",
    "simi = find_similar_to(v('speak') - v('sing') + v('dance'), svdspace_10k)[:10] #expect 'walk'\n",
    "print('speak - sing + dance = walk')\n",
    "print(nice_list(simi), '\\n')\n",
    "\n",
    "\n",
    "#Cool : Cold :: Warm : Hot\n",
    "simi = find_similar_to(v('cool') - v('cold') + v('hot'), svdspace_10k)[:10] #expect 'warm'\n",
    "print('cool - cold + hot = warm')\n",
    "print(nice_list(simi), '\\n')\n",
    "\n",
    "# Mountain : Tall :: Desert : Dry\n",
    "# y1-x1+x2 = y2 (change things up)\n",
    "simi = find_similar_to(v('desert') - v('mountain') + v('tall'), svdspace_10k)[:10] #expect 'Dry'\n",
    "print('desert - mountain + tall = dry')\n",
    "print(nice_list(simi), '\\n')\n",
    "\n",
    "#Night : Day :: Right : Left\n",
    "simi = find_similar_to(v('night') - v('day') + v('left'), svdspace_10k)[:10] #expect 'right'\n",
    "print('night - day + left = right')\n",
    "print(nice_list(simi), '\\n')\n"
   ]
  },
  {
   "cell_type": "markdown",
   "metadata": {},
   "source": [
    "## 5. Semantic composition and phrase similarity **[20 marks]**\n",
    "\n",
    "In this task, we are going to look at how different semantic composition models, introduced in [2] correlate with human judgements. The file with the dataset `mitchell_lapata_acl08.txt` is included with this notebook (we also used it in the class).\n",
    "\n",
    "---\n",
    "\n",
    "Explanation of the task from Discord channel:\n",
    "\n",
    "**What are we trying to achieve?**  \n",
    "We want to create models, which can automatically capture differences between meaning of different phrases. These models should also be as good as we are (humans) in this task. Check example (1) from Mitchell/Lapata paper, it has two sentences which share the same words, but their meaning is completely different. We as humans can clearly see this difference, but how could a machine capture it?\n",
    "\n",
    "It is intuitive that in order to get a meaning of a phrase, we might combine meaning of individual words in this phrase somehow, but how? First, we represent each word with the frequency vector based on the semantic space that we built before (e.g, frequency space, ppmi space, svd space). In other words, each word's meaning is represented by the number of times other words occur in the context, defined by window size. Now, we have a vector for `discussion` and a vector for `thrive`.\n",
    "\n",
    "_How do we combine these vectors to get a single vector for the phrase `discussion thrive`?_\n",
    "\n",
    "Such methods of combining meaning vectors into a single item are called _semantic composition methods_ (literally, because we compose semantic meaning of the phrase from its individuals). During the lecture, we tried different semantic composition methods: additive, multiplicative, combined.\n",
    "\n",
    "Let's say we multiplied the vectors (went with the multiplicative method) and now we have one vector for our phrase.\n",
    "\n",
    "Remember, we want to have a model that captures differences between the phrases; it means that if `discussion thrive` is our reference phrase, we need to have a different phrase (high or low similarity phrase) to compare it against the reference one. How do we get this other phrase? Well, this other phrase can be either very similar to the reference or not similar at all, right? Let's say we decided to go with the second option and made/constructed a phrase `discussion digress`, which we know is very dissimilar to the reference phrase. We label this pair of phrases as having a low similarity, e.g., `low` in `hilo`. We can also create a different phrase (e.g., `discussion develop`) and use it as a high similarity phrase when paired with our reference phrase, right? This then would be labeled as `high` in `hilo`. This is what `hilo` in the dataset stands for: known information about how similar the reference phrase and the landmark phrase are.\n",
    "\n",
    "Now, our main task is to automatically learn the similarities/differences between our reference and our landmark, right? We take the first pair: `discussion thrive` vs. `discussion digress`. We have a vector representation for each of these phrases.\n",
    "\n",
    "**How do we compare two vectors?**\n",
    "\n",
    "We use cosine similarity to calculate a single score that would tell us about the similarity between these two vectors. The bigger the cosine, the more similar two vectors are. Cosine ranges from 0 to 1 (0 is very low similarity, 1 is very high similarity). Let's say, we get a cosine of 0.89, it means that according to the multiplicative model (remember, we decided to use multiplicative semantic composition method), these phrases are very similar (cosine is quite high). But wait a second, we know that these two phrases should be of low similarity, right? Because this is what the value in `hilo` tells us about this pair - `discussion thrive` and `discussion digress` are not similar to each other. Clearly, our multiplicative method fails to capture it.\n",
    "\n",
    "**What can we do to improve our model?**\n",
    "\n",
    "We can try a different composition method to get a phrase vector from phrase's words: let's replace multiplication with addition. Or we can also use combined method. Let's say we used combined method and run cosine again; this time it tells that the cosine score is 0.45. Ok, this seems to be quite low, and it also agrees with our knowledge that these phrases are indeed not similar.\n",
    "\n",
    "---\n",
    "\n",
    "In other words, we need to evaluate different composition models (additive, multiplicative, combined) and analyse how well they perform. **How do we analyse their performance?** Because we have the ground-truth for comparison (`hilo` values), we know whether our phrases are actually similar or not. We want our cosine score to reflect this knowledge: if the score is high, but the groun-truth hilo is low, then we have a problem in the model - it did not learn things well, we need to replace the composition function.\n",
    "\n",
    "---\n",
    "\n",
    "_Long story short_: `hilo` is something that we compare our cosine to. `hilo` contains correct answers about similarity between phrases, and cosine should agree with this. If reference-landmark pair are `high` in `hilo`, then cosine should be high enough to reflect that. If cosine is not high in this case, then we look at our model and change the composition function. We need to find the function, which give us cosines that are super close to the ground-truth known `hilo` values."
   ]
  },
  {
   "cell_type": "markdown",
   "metadata": {},
   "source": [
    "<img src=\"res.png\" alt=\"drawing\" width=\"500\"/>"
   ]
  },
  {
   "cell_type": "markdown",
   "metadata": {},
   "source": [
    "Next, we want to compute do we compute correlation between our model's predictions and the ground-truth, something similar to the results from [2] (image above):\n",
    "\n",
    "---\n",
    "\n",
    "In `High` and `Low` columns we have mean cosine values.\n",
    "These are calculated by averaging cosine scores for all pairs of phrases per model.\n",
    "Rows introduce different models: `add` is additive, `multiply` is multiplicative, etc. (these are all described in the paper). `NonComp` is a baseline model, the most \"stupid\" one, it should be the worst. `UpperBound` is how humans performed in this task (they were asked to rate similarity between pairs of phrases, 1 is the lowest, 7 is the highest). Why these numbers are in a different scale, not from 0 to 1 like cosine, but from 1 to 7? Because they are not normalised, and authors explicitly said that they are interested in relative differences.\n",
    "\n",
    "We need models which are closer to human ratings. `Add` model has 0.59 mean for `High` and 0.59 for `Low`, so it did not learn to differentiate between high similarity pairs and low similarity ones. This is a bad model then, we need a better one. `WeightAdd` seems to be doing better, the difference between `High` and `Low` is now 0.01, but it's also quite bad - the difference is not that obvious. The best models are `Multiply` and `Combined`, because their mean cosines for `High` and `Low` are quite different from each other. We can see that these two models gave higher cosines for high similarity pairs (0.42 and 0.38), while giving lower cosines for low similarity pairs (0.28 and 0.28). And this is a good result - it shows that these two composition functions are so far the best in (i) giving high cosine go highly similar pairs and low cosine to very dissimilar pairs, and (ii) keeping the distance (range) between high and low cosines quite large.\n",
    "\n",
    "**However, we can't say how far/close they are when compared to human performance (UpperBound) since human scores are not normalised.**\n",
    "\n",
    "Still, we want to choose a model which is the closest to humans. This is why we want to run **the correlation test.**\n",
    "\n",
    "How do we perform the correlation test? We need to see how well *each model* correlates with human judgements. So for each model, we would have a vector of cosine values this model gives for each pair that we have. For example, let's say we have three pairs of phrases and our cosine values from additive model are the following ones: `[0.89, 0.40, 0.70]`. Now we need to get a vector of the same size, but for human scores. What do we have for human scores? We have multiple participants, which means that a single phrase can be evaluated by multiple participants. Let's say, the first phrase has scores from two participants (`6, 7`), so what we would do is that we would average it to have a single number (`(6 + 7) / 2 = 6.5`). With this, we can get a mean vector of human scores per item: `[6.5, 3, 6]`.\n",
    "\n",
    "Now, we have two vectors and we can run Spearman correlation on these vectors. This is what exactly what the third column in the Results table is showing (the correlation value). There is also a p-value (denoted right below the table)."
   ]
  },
  {
   "cell_type": "markdown",
   "metadata": {},
   "source": [
    "  "
   ]
  },
  {
   "cell_type": "markdown",
   "metadata": {},
   "source": [
    "**What is your ultimate task in this part of the assignment?**\n",
    "\n",
    "(i) Process the dataset and extract `reference - landmark` pairs; you can use the code from the lecture as something to start with. Try to keep information about human rating (`input`) and high/low similarity (`hilo`), because you will need it for correlation tests. Also, you might want to keep the information about participant id (will be useful for getting average numbers for correlation tests). Which format you should use to keep all this data? It's up to you, but a dictionary-like format could be a good choice.\n",
    "\n",
    "(ii) Build models of semantic phrase composition: in the lecture we introduced simple additive, simple multiplicative and combined models (details are in [2]). Your task is to take a single pair of phrases, and compute the composition of its vectors using each of these functions. Thus, you will have (at least) three compositional models that take each `noun - verb` phrase from the pair (these phrases can be either references or landmarks) and output a single vector, representing the meaning of this phrase. As your semantic space, you can use pretrained spaces (standard space, ppmi or svd) introduced above. It is up to you which space you use, but for someone who runs your code, it should be pretty straightforward to switch between them.\n",
    "\n",
    "(iii) calculate Spearman correlation between each model's predictions and human judgements; you should have something similar to the scores that are shown in the paper."
   ]
  },
  {
   "cell_type": "markdown",
   "metadata": {},
   "source": [
    "  "
   ]
  },
  {
   "cell_type": "markdown",
   "metadata": {},
   "source": [
    "**Thoughts process behind calculating the correlation:**\n",
    "\n",
    "Let's look at the example pair: reference `child chatter` and high-level similarity landmark (as the last word in the row indicates) `child gabble`. Let's say we have 3 humans evaluating the similarity between these two phrases and we combine their scores into a single vector: `[5, 6, 5]`. We need to average them to get our human vector for correlation: `[5.3]`.\n",
    "\n",
    "Our A model's output:  \n",
    "`cosine(p1, p2) = 0.88`, where p1 is the result of addition of word vectors in the reference phrase `child gabble`, and p2 is the result of addition of word vectors in the high-level similarity phrase `child chatter`.  \n",
    "\n",
    "Therefore, we have human rating vector `[5.3]` and model A output `[0.88]`. Next is to compute correlation between these two vectors. This should give you a correlation value and p-value for the model of choice and human ratings.\n",
    "\n",
    "Of course, your human rating vectors will be longer (e.g., [6, 7, 3, 4, 5]). Each of your models (A, B, C) will produce a single vector of cosine similarity between these same pairs (e.g., [0.89, 0.98, 0.23, 0.65, 0.55]). The goal is to compare each model's cosine similarity vectors with human rating vectors and identify the model which outputs the best result in terms of being the closest to the way human rate similarity between the phrases.\n",
    "\n",
    "---\n",
    "\n",
    "**The minimum to do in this task**: compute correlations for at least _ONE_ model and human ratings. However, this should not be hard to run it for any other model as well. For examples on how to interpret the results, look at Section 5 Results of the original paper."
   ]
  },
  {
   "cell_type": "code",
   "execution_count": 218,
   "metadata": {},
   "outputs": [],
   "source": [
    "import pandas as pd"
   ]
  },
  {
   "cell_type": "code",
   "execution_count": 227,
   "metadata": {},
   "outputs": [
    {
     "name": "stdout",
     "output_type": "stream",
     "text": [
      "participant verb noun landmark input hilo\n",
      "\n",
      "participant20 stray thought roam 7 low\n",
      "\n",
      "participant20 stray discussion digress 6 high\n",
      "\n",
      "participant20 stray eye roam 7 high\n",
      "\n",
      "participant20 stray child digress 1 low\n",
      "\n"
     ]
    }
   ],
   "source": [
    "file_name = 'mitchell_lapata_acl08.txt'\n",
    "with open(file_name) as f:\n",
    "    lines = f.readlines()\n",
    "print('\\n'.join(lines[0:5]))"
   ]
  },
  {
   "cell_type": "code",
   "execution_count": 228,
   "metadata": {},
   "outputs": [
    {
     "data": {
      "text/html": [
       "<div>\n",
       "<style scoped>\n",
       "    .dataframe tbody tr th:only-of-type {\n",
       "        vertical-align: middle;\n",
       "    }\n",
       "\n",
       "    .dataframe tbody tr th {\n",
       "        vertical-align: top;\n",
       "    }\n",
       "\n",
       "    .dataframe thead th {\n",
       "        text-align: right;\n",
       "    }\n",
       "</style>\n",
       "<table border=\"1\" class=\"dataframe\">\n",
       "  <thead>\n",
       "    <tr style=\"text-align: right;\">\n",
       "      <th></th>\n",
       "      <th>participant</th>\n",
       "      <th>verb</th>\n",
       "      <th>noun</th>\n",
       "      <th>landmark</th>\n",
       "      <th>input</th>\n",
       "      <th>hilo</th>\n",
       "    </tr>\n",
       "  </thead>\n",
       "  <tbody>\n",
       "    <tr>\n",
       "      <th>20</th>\n",
       "      <td>participant20</td>\n",
       "      <td>subside</td>\n",
       "      <td>flood</td>\n",
       "      <td>lessen</td>\n",
       "      <td>6</td>\n",
       "      <td>high</td>\n",
       "    </tr>\n",
       "    <tr>\n",
       "      <th>21</th>\n",
       "      <td>participant20</td>\n",
       "      <td>subside</td>\n",
       "      <td>fear</td>\n",
       "      <td>lessen</td>\n",
       "      <td>5</td>\n",
       "      <td>high</td>\n",
       "    </tr>\n",
       "    <tr>\n",
       "      <th>22</th>\n",
       "      <td>participant20</td>\n",
       "      <td>subside</td>\n",
       "      <td>symptom</td>\n",
       "      <td>sink</td>\n",
       "      <td>4</td>\n",
       "      <td>low</td>\n",
       "    </tr>\n",
       "    <tr>\n",
       "      <th>23</th>\n",
       "      <td>participant20</td>\n",
       "      <td>subside</td>\n",
       "      <td>island</td>\n",
       "      <td>sink</td>\n",
       "      <td>2</td>\n",
       "      <td>high</td>\n",
       "    </tr>\n",
       "    <tr>\n",
       "      <th>24</th>\n",
       "      <td>participant20</td>\n",
       "      <td>slump</td>\n",
       "      <td>shoulder</td>\n",
       "      <td>slouch</td>\n",
       "      <td>6</td>\n",
       "      <td>high</td>\n",
       "    </tr>\n",
       "    <tr>\n",
       "      <th>25</th>\n",
       "      <td>participant20</td>\n",
       "      <td>slump</td>\n",
       "      <td>sale</td>\n",
       "      <td>slouch</td>\n",
       "      <td>6</td>\n",
       "      <td>low</td>\n",
       "    </tr>\n",
       "    <tr>\n",
       "      <th>26</th>\n",
       "      <td>participant20</td>\n",
       "      <td>slump</td>\n",
       "      <td>value</td>\n",
       "      <td>decline</td>\n",
       "      <td>7</td>\n",
       "      <td>high</td>\n",
       "    </tr>\n",
       "    <tr>\n",
       "      <th>27</th>\n",
       "      <td>participant20</td>\n",
       "      <td>slump</td>\n",
       "      <td>man</td>\n",
       "      <td>decline</td>\n",
       "      <td>1</td>\n",
       "      <td>low</td>\n",
       "    </tr>\n",
       "    <tr>\n",
       "      <th>28</th>\n",
       "      <td>participant20</td>\n",
       "      <td>bow</td>\n",
       "      <td>butler</td>\n",
       "      <td>submit</td>\n",
       "      <td>3</td>\n",
       "      <td>low</td>\n",
       "    </tr>\n",
       "    <tr>\n",
       "      <th>29</th>\n",
       "      <td>participant20</td>\n",
       "      <td>bow</td>\n",
       "      <td>company</td>\n",
       "      <td>submit</td>\n",
       "      <td>5</td>\n",
       "      <td>high</td>\n",
       "    </tr>\n",
       "    <tr>\n",
       "      <th>30</th>\n",
       "      <td>participant20</td>\n",
       "      <td>bow</td>\n",
       "      <td>head</td>\n",
       "      <td>stoop</td>\n",
       "      <td>5</td>\n",
       "      <td>high</td>\n",
       "    </tr>\n",
       "    <tr>\n",
       "      <th>31</th>\n",
       "      <td>participant20</td>\n",
       "      <td>bow</td>\n",
       "      <td>government</td>\n",
       "      <td>stoop</td>\n",
       "      <td>4</td>\n",
       "      <td>low</td>\n",
       "    </tr>\n",
       "    <tr>\n",
       "      <th>32</th>\n",
       "      <td>participant20</td>\n",
       "      <td>erupt</td>\n",
       "      <td>fountain</td>\n",
       "      <td>burst</td>\n",
       "      <td>1</td>\n",
       "      <td>high</td>\n",
       "    </tr>\n",
       "    <tr>\n",
       "      <th>33</th>\n",
       "      <td>participant20</td>\n",
       "      <td>erupt</td>\n",
       "      <td>temper</td>\n",
       "      <td>flare</td>\n",
       "      <td>6</td>\n",
       "      <td>high</td>\n",
       "    </tr>\n",
       "    <tr>\n",
       "      <th>34</th>\n",
       "      <td>participant20</td>\n",
       "      <td>erupt</td>\n",
       "      <td>storm</td>\n",
       "      <td>flare</td>\n",
       "      <td>6</td>\n",
       "      <td>low</td>\n",
       "    </tr>\n",
       "    <tr>\n",
       "      <th>35</th>\n",
       "      <td>participant20</td>\n",
       "      <td>erupt</td>\n",
       "      <td>conflict</td>\n",
       "      <td>burst</td>\n",
       "      <td>5</td>\n",
       "      <td>low</td>\n",
       "    </tr>\n",
       "    <tr>\n",
       "      <th>36</th>\n",
       "      <td>participant20</td>\n",
       "      <td>recoil</td>\n",
       "      <td>heart</td>\n",
       "      <td>flinch</td>\n",
       "      <td>6</td>\n",
       "      <td>high</td>\n",
       "    </tr>\n",
       "    <tr>\n",
       "      <th>37</th>\n",
       "      <td>participant20</td>\n",
       "      <td>recoil</td>\n",
       "      <td>rifle</td>\n",
       "      <td>kick</td>\n",
       "      <td>7</td>\n",
       "      <td>high</td>\n",
       "    </tr>\n",
       "    <tr>\n",
       "      <th>38</th>\n",
       "      <td>participant20</td>\n",
       "      <td>recoil</td>\n",
       "      <td>eye</td>\n",
       "      <td>flinch</td>\n",
       "      <td>5</td>\n",
       "      <td>high</td>\n",
       "    </tr>\n",
       "    <tr>\n",
       "      <th>39</th>\n",
       "      <td>participant20</td>\n",
       "      <td>recoil</td>\n",
       "      <td>hand</td>\n",
       "      <td>kick</td>\n",
       "      <td>5</td>\n",
       "      <td>low</td>\n",
       "    </tr>\n",
       "  </tbody>\n",
       "</table>\n",
       "</div>"
      ],
      "text/plain": [
       "      participant     verb        noun landmark  input  hilo\n",
       "20  participant20  subside       flood   lessen      6  high\n",
       "21  participant20  subside        fear   lessen      5  high\n",
       "22  participant20  subside     symptom     sink      4   low\n",
       "23  participant20  subside      island     sink      2  high\n",
       "24  participant20    slump    shoulder   slouch      6  high\n",
       "25  participant20    slump        sale   slouch      6   low\n",
       "26  participant20    slump       value  decline      7  high\n",
       "27  participant20    slump         man  decline      1   low\n",
       "28  participant20      bow      butler   submit      3   low\n",
       "29  participant20      bow     company   submit      5  high\n",
       "30  participant20      bow        head    stoop      5  high\n",
       "31  participant20      bow  government    stoop      4   low\n",
       "32  participant20    erupt    fountain    burst      1  high\n",
       "33  participant20    erupt      temper    flare      6  high\n",
       "34  participant20    erupt       storm    flare      6   low\n",
       "35  participant20    erupt    conflict    burst      5   low\n",
       "36  participant20   recoil       heart   flinch      6  high\n",
       "37  participant20   recoil       rifle     kick      7  high\n",
       "38  participant20   recoil         eye   flinch      5  high\n",
       "39  participant20   recoil        hand     kick      5   low"
      ]
     },
     "execution_count": 228,
     "metadata": {},
     "output_type": "execute_result"
    }
   ],
   "source": [
    "# We can load this using pandas\n",
    "data = pd.read_csv(file_name, sep=' ', header=0)\n",
    "data.head()\n",
    "data.iloc[20:40]"
   ]
  },
  {
   "cell_type": "code",
   "execution_count": 296,
   "metadata": {},
   "outputs": [
    {
     "data": {
      "text/plain": [
       "array([2, 4])"
      ]
     },
     "execution_count": 296,
     "metadata": {},
     "output_type": "execute_result"
    }
   ],
   "source": [
    "np.add([1,2],[1,2])"
   ]
  },
  {
   "cell_type": "code",
   "execution_count": 303,
   "metadata": {},
   "outputs": [],
   "source": [
    "# (noun, verb) and (noun, landmark)\n",
    "from scipy.spatial import distance\n",
    "\n",
    "# Define representations\n",
    "def multiply(verb, subject, space):\n",
    "    return np.multiply(space[subject],space[verb])\n",
    "\n",
    "def add(verb, subject, space):\n",
    "    return np.add(space[subject],space[verb])\n",
    "\n",
    "def weighted_add(verb, subject, space):\n",
    "    weight_s=0.2\n",
    "    weight_v=0.8\n",
    "    return np.add(np.multiply(weight_s, space[subject]), np.multiply(weight_v, space[verb]))\n",
    "\n",
    "def combined(verb, subject, space):\n",
    "    weight_1 = 0.0\n",
    "    weight_2 = 0.95\n",
    "    weight_3 = 0.05\n",
    "    out = np.multiply(weight_1,  space[subject]) + np.multiply(weight_2,  space[verb]) + weight_3*np.multiply( space[subject],  space[verb])\n",
    "    return out\n",
    "    \n",
    "repr_lookup = {'Add':add, 'Multiply':multiply, 'WeightedAdd':weighted_add, 'Combined':combined}\n",
    "\n",
    "# cosine similarity\n",
    "def cosine_sim(v1, v2):\n",
    "    # we use 1-cosine because we want similar vectors to get a high value\n",
    "    return 1-distance.cosine(v1, v2)\n",
    "\n",
    "def spearman(cosine_sim, human_sim):\n",
    "    return stats.spearmanr(cosine_sim, human_sim)\n"
   ]
  },
  {
   "cell_type": "code",
   "execution_count": 308,
   "metadata": {},
   "outputs": [],
   "source": [
    "def preprocess(data, space, verbose=True):\n",
    "    \n",
    "    # remove any row in the dataset  that contains a word that is not present in the space\n",
    "    data_2 = data.copy().loc[data.loc[:, ['verb','noun','landmark']].isin(space.keys()).all(axis=1)]\n",
    "    # The same phrase-pairs can be evaluate by multiple participants. We need to average these scores\n",
    "    data_3 = data_2.copy().drop_duplicates(subset=['verb','noun','landmark'], keep='first', inplace=False, ignore_index=False)\n",
    "    \n",
    "    if verbose:\n",
    "        print('Data size before removal', len(data))\n",
    "        print('Data size after removal', len(data_2))\n",
    "        print('N_unique phrase pairs', len(data_3))\n",
    "\n",
    "    # average scores\n",
    "    for v_n_l, group in data_2.groupby(['verb','noun','landmark']):\n",
    "        idx = (data_3.loc[:,['verb','noun','landmark']] == list(v_n_l)).all(axis=1)\n",
    "        data_3.loc[idx,'input'] = np.mean(group['input'])\n",
    "\n",
    "    #drop participant\n",
    "    data_3.drop('participant',axis=1,inplace=True)\n",
    "    \n",
    "    #data_3['hilo_binary'] = (data_3['hilo'] == 'high').astype(int)\n",
    "    \n",
    "    return data_3 #preprocessed_data\n",
    "\n",
    "def create_results(data_3, space, repr_lookup=repr_lookup):\n",
    "    # \"calculate Spearman correlation between each model's predictions and human judgements\"\n",
    "    # Note this slightly differs from the paper. In the paper they calculate the correlation between scores and true.\n",
    "\n",
    "    result_matrix = []\n",
    "    #UpperBound / Human\n",
    "    high = np.mean(data_3[data_3['hilo']=='high']['input'])\n",
    "    low = np.mean(data_3[data_3['hilo']=='low']['input'])\n",
    "    result_matrix.append(['Human', high, low, 1.0, 0.0])\n",
    "\n",
    "    #Representation functions\n",
    "    for repr_name, repr_func in repr_lookup.items():\n",
    "\n",
    "        cos_sims = pd.Series(index=data_3.index, dtype='float')\n",
    "        for idx, row in data_3.loc[:, ['verb','noun','landmark']].iterrows():\n",
    "            # (noun, verb) and (noun, landmark)\n",
    "            repr_vec1 =repr_func(row['verb'], row['noun'], space)\n",
    "            repr_vec2 = repr_func(row['landmark'], row['noun'], space)\n",
    "            cos_sim = cosine_sim(repr_vec1, repr_vec2)\n",
    "            cos_sims[idx] = cos_sim\n",
    "\n",
    "        rho, pval = stats.spearmanr(cos_sims, data_3['input'])\n",
    "        high = np.mean(cos_sims[data_3['hilo']=='high'])\n",
    "        low = np.mean(cos_sims[data_3['hilo']=='low'])\n",
    "        result_matrix.append([repr_name, high, low, rho, pval])\n",
    "\n",
    "    result_matrix = pd.DataFrame(result_matrix, columns=['Model', 'High', 'Low', 'Rho', 'p-value'])\n",
    "    result_matrix['relative_diff'] = (result_matrix['High']-result_matrix['Low'])/result_matrix['High']\n",
    "    result_matrix = round(result_matrix,3)\n",
    "    return result_matrix"
   ]
  },
  {
   "cell_type": "code",
   "execution_count": 309,
   "metadata": {},
   "outputs": [
    {
     "name": "stdout",
     "output_type": "stream",
     "text": [
      "Space: space_10k\n",
      "Data size before removal 3600\n",
      "Data size after removal 240\n",
      "N_unique phrase pairs 8\n"
     ]
    },
    {
     "data": {
      "text/html": [
       "<div>\n",
       "<style scoped>\n",
       "    .dataframe tbody tr th:only-of-type {\n",
       "        vertical-align: middle;\n",
       "    }\n",
       "\n",
       "    .dataframe tbody tr th {\n",
       "        vertical-align: top;\n",
       "    }\n",
       "\n",
       "    .dataframe thead th {\n",
       "        text-align: right;\n",
       "    }\n",
       "</style>\n",
       "<table border=\"1\" class=\"dataframe\">\n",
       "  <thead>\n",
       "    <tr style=\"text-align: right;\">\n",
       "      <th></th>\n",
       "      <th>Model</th>\n",
       "      <th>High</th>\n",
       "      <th>Low</th>\n",
       "      <th>Rho</th>\n",
       "      <th>p-value</th>\n",
       "      <th>relative_diff</th>\n",
       "    </tr>\n",
       "  </thead>\n",
       "  <tbody>\n",
       "    <tr>\n",
       "      <th>0</th>\n",
       "      <td>Human</td>\n",
       "      <td>5.360</td>\n",
       "      <td>2.943</td>\n",
       "      <td>1.000</td>\n",
       "      <td>0.000</td>\n",
       "      <td>0.451</td>\n",
       "    </tr>\n",
       "    <tr>\n",
       "      <th>1</th>\n",
       "      <td>Add</td>\n",
       "      <td>0.986</td>\n",
       "      <td>0.964</td>\n",
       "      <td>0.452</td>\n",
       "      <td>0.260</td>\n",
       "      <td>0.023</td>\n",
       "    </tr>\n",
       "    <tr>\n",
       "      <th>2</th>\n",
       "      <td>Multiply</td>\n",
       "      <td>0.908</td>\n",
       "      <td>0.896</td>\n",
       "      <td>0.167</td>\n",
       "      <td>0.693</td>\n",
       "      <td>0.014</td>\n",
       "    </tr>\n",
       "    <tr>\n",
       "      <th>3</th>\n",
       "      <td>WeightedAdd</td>\n",
       "      <td>0.942</td>\n",
       "      <td>0.861</td>\n",
       "      <td>0.405</td>\n",
       "      <td>0.320</td>\n",
       "      <td>0.086</td>\n",
       "    </tr>\n",
       "    <tr>\n",
       "      <th>4</th>\n",
       "      <td>Combined</td>\n",
       "      <td>0.903</td>\n",
       "      <td>0.879</td>\n",
       "      <td>0.286</td>\n",
       "      <td>0.493</td>\n",
       "      <td>0.026</td>\n",
       "    </tr>\n",
       "  </tbody>\n",
       "</table>\n",
       "</div>"
      ],
      "text/plain": [
       "         Model   High    Low    Rho  p-value  relative_diff\n",
       "0        Human  5.360  2.943  1.000    0.000          0.451\n",
       "1          Add  0.986  0.964  0.452    0.260          0.023\n",
       "2     Multiply  0.908  0.896  0.167    0.693          0.014\n",
       "3  WeightedAdd  0.942  0.861  0.405    0.320          0.086\n",
       "4     Combined  0.903  0.879  0.286    0.493          0.026"
      ]
     },
     "metadata": {},
     "output_type": "display_data"
    },
    {
     "name": "stdout",
     "output_type": "stream",
     "text": [
      "\n",
      "Space: ppmispace_10k\n"
     ]
    },
    {
     "data": {
      "text/html": [
       "<div>\n",
       "<style scoped>\n",
       "    .dataframe tbody tr th:only-of-type {\n",
       "        vertical-align: middle;\n",
       "    }\n",
       "\n",
       "    .dataframe tbody tr th {\n",
       "        vertical-align: top;\n",
       "    }\n",
       "\n",
       "    .dataframe thead th {\n",
       "        text-align: right;\n",
       "    }\n",
       "</style>\n",
       "<table border=\"1\" class=\"dataframe\">\n",
       "  <thead>\n",
       "    <tr style=\"text-align: right;\">\n",
       "      <th></th>\n",
       "      <th>Model</th>\n",
       "      <th>High</th>\n",
       "      <th>Low</th>\n",
       "      <th>Rho</th>\n",
       "      <th>p-value</th>\n",
       "      <th>relative_diff</th>\n",
       "    </tr>\n",
       "  </thead>\n",
       "  <tbody>\n",
       "    <tr>\n",
       "      <th>0</th>\n",
       "      <td>Human</td>\n",
       "      <td>5.360</td>\n",
       "      <td>2.943</td>\n",
       "      <td>1.000</td>\n",
       "      <td>0.000</td>\n",
       "      <td>0.451</td>\n",
       "    </tr>\n",
       "    <tr>\n",
       "      <th>1</th>\n",
       "      <td>Add</td>\n",
       "      <td>0.629</td>\n",
       "      <td>0.558</td>\n",
       "      <td>0.643</td>\n",
       "      <td>0.086</td>\n",
       "      <td>0.113</td>\n",
       "    </tr>\n",
       "    <tr>\n",
       "      <th>2</th>\n",
       "      <td>Multiply</td>\n",
       "      <td>0.077</td>\n",
       "      <td>0.035</td>\n",
       "      <td>0.571</td>\n",
       "      <td>0.139</td>\n",
       "      <td>0.541</td>\n",
       "    </tr>\n",
       "    <tr>\n",
       "      <th>3</th>\n",
       "      <td>WeightedAdd</td>\n",
       "      <td>0.157</td>\n",
       "      <td>0.131</td>\n",
       "      <td>0.690</td>\n",
       "      <td>0.058</td>\n",
       "      <td>0.167</td>\n",
       "    </tr>\n",
       "    <tr>\n",
       "      <th>4</th>\n",
       "      <td>Combined</td>\n",
       "      <td>0.054</td>\n",
       "      <td>0.053</td>\n",
       "      <td>0.381</td>\n",
       "      <td>0.352</td>\n",
       "      <td>0.018</td>\n",
       "    </tr>\n",
       "  </tbody>\n",
       "</table>\n",
       "</div>"
      ],
      "text/plain": [
       "         Model   High    Low    Rho  p-value  relative_diff\n",
       "0        Human  5.360  2.943  1.000    0.000          0.451\n",
       "1          Add  0.629  0.558  0.643    0.086          0.113\n",
       "2     Multiply  0.077  0.035  0.571    0.139          0.541\n",
       "3  WeightedAdd  0.157  0.131  0.690    0.058          0.167\n",
       "4     Combined  0.054  0.053  0.381    0.352          0.018"
      ]
     },
     "metadata": {},
     "output_type": "display_data"
    },
    {
     "name": "stdout",
     "output_type": "stream",
     "text": [
      "\n",
      "Space: svdspace_10k\n"
     ]
    },
    {
     "data": {
      "text/html": [
       "<div>\n",
       "<style scoped>\n",
       "    .dataframe tbody tr th:only-of-type {\n",
       "        vertical-align: middle;\n",
       "    }\n",
       "\n",
       "    .dataframe tbody tr th {\n",
       "        vertical-align: top;\n",
       "    }\n",
       "\n",
       "    .dataframe thead th {\n",
       "        text-align: right;\n",
       "    }\n",
       "</style>\n",
       "<table border=\"1\" class=\"dataframe\">\n",
       "  <thead>\n",
       "    <tr style=\"text-align: right;\">\n",
       "      <th></th>\n",
       "      <th>Model</th>\n",
       "      <th>High</th>\n",
       "      <th>Low</th>\n",
       "      <th>Rho</th>\n",
       "      <th>p-value</th>\n",
       "      <th>relative_diff</th>\n",
       "    </tr>\n",
       "  </thead>\n",
       "  <tbody>\n",
       "    <tr>\n",
       "      <th>0</th>\n",
       "      <td>Human</td>\n",
       "      <td>5.360</td>\n",
       "      <td>2.943</td>\n",
       "      <td>1.000</td>\n",
       "      <td>0.000</td>\n",
       "      <td>0.451</td>\n",
       "    </tr>\n",
       "    <tr>\n",
       "      <th>1</th>\n",
       "      <td>Add</td>\n",
       "      <td>0.927</td>\n",
       "      <td>0.877</td>\n",
       "      <td>0.571</td>\n",
       "      <td>0.139</td>\n",
       "      <td>0.054</td>\n",
       "    </tr>\n",
       "    <tr>\n",
       "      <th>2</th>\n",
       "      <td>Multiply</td>\n",
       "      <td>0.935</td>\n",
       "      <td>0.932</td>\n",
       "      <td>0.048</td>\n",
       "      <td>0.911</td>\n",
       "      <td>0.004</td>\n",
       "    </tr>\n",
       "    <tr>\n",
       "      <th>3</th>\n",
       "      <td>WeightedAdd</td>\n",
       "      <td>0.703</td>\n",
       "      <td>0.645</td>\n",
       "      <td>0.405</td>\n",
       "      <td>0.320</td>\n",
       "      <td>0.083</td>\n",
       "    </tr>\n",
       "    <tr>\n",
       "      <th>4</th>\n",
       "      <td>Combined</td>\n",
       "      <td>0.251</td>\n",
       "      <td>0.293</td>\n",
       "      <td>-0.095</td>\n",
       "      <td>0.823</td>\n",
       "      <td>-0.166</td>\n",
       "    </tr>\n",
       "  </tbody>\n",
       "</table>\n",
       "</div>"
      ],
      "text/plain": [
       "         Model   High    Low    Rho  p-value  relative_diff\n",
       "0        Human  5.360  2.943  1.000    0.000          0.451\n",
       "1          Add  0.927  0.877  0.571    0.139          0.054\n",
       "2     Multiply  0.935  0.932  0.048    0.911          0.004\n",
       "3  WeightedAdd  0.703  0.645  0.405    0.320          0.083\n",
       "4     Combined  0.251  0.293 -0.095    0.823         -0.166"
      ]
     },
     "metadata": {},
     "output_type": "display_data"
    }
   ],
   "source": [
    "#Space\n",
    "space = ppmispace_10k #we determined earlier that this was the best\n",
    "\n",
    "print('Space: space_10k')\n",
    "preprocessed_data = preprocess(data, space_10k)\n",
    "res = create_results(preprocessed_data, space_10k)\n",
    "display(res)\n",
    "print()\n",
    "\n",
    "print('Space: ppmispace_10k')\n",
    "preprocessed_data = preprocess(data, ppmispace_10k, verbose=False)\n",
    "res = create_results(preprocessed_data, ppmispace_10k)\n",
    "display(res)\n",
    "print()\n",
    "\n",
    "print('Space: svdspace_10k')\n",
    "preprocessed_data = preprocess(data, svdspace_10k, verbose=False)\n",
    "res = create_results(preprocessed_data, svdspace_10k)\n",
    "display(res)"
   ]
  },
  {
   "cell_type": "markdown",
   "metadata": {},
   "source": [
    "**Any comments/thoughts should go here:**\n",
    "\n",
    "None of the models or represenations fall under the 5% p-value threshold. The closest is WeightedAdd (5.8%) and Add (8.6%) using PMI-space.\n",
    "\n",
    "Surprisingly relative difference can be high but the p-value can still be poor."
   ]
  },
  {
   "cell_type": "markdown",
   "metadata": {},
   "source": [
    "# Literature\n",
    "\n",
    "  - [1] C. Silberer and M. Lapata. Learning grounded meaning representations with autoencoders. In Proceedings of the 52nd Annual Meeting of the Association for Computational Linguistics, pages 721–732, Baltimore, Maryland, USA, June 23–25 2014 2014. Association for Computational Linguistics.  \n",
    "\n",
    "  - [2] Mitchell, J., & Lapata, M. (2008). Vector-based Models of Semantic Composition. In Proceedings of ACL-08: HLT (pp. 236–244). Association for Computational Linguistics.\n",
    "  \n",
    "  - [3] T. Mikolov, I. Sutskever, K. Chen, G. S. Corrado, and J. Dean. Distributed representations of words and phrases and their compositionality. In Advances in neural information processing systems, pages 3111–3119, 2013."
   ]
  },
  {
   "cell_type": "markdown",
   "metadata": {},
   "source": [
    "## Marks\n",
    "\n",
    "This assignment has a total of 60 marks."
   ]
  }
 ],
 "metadata": {
  "kernelspec": {
   "display_name": "Python 3 (ipykernel)",
   "language": "python",
   "name": "python3"
  },
  "language_info": {
   "codemirror_mode": {
    "name": "ipython",
    "version": 3
   },
   "file_extension": ".py",
   "mimetype": "text/x-python",
   "name": "python",
   "nbconvert_exporter": "python",
   "pygments_lexer": "ipython3",
   "version": "3.9.10"
  }
 },
 "nbformat": 4,
 "nbformat_minor": 4
}
