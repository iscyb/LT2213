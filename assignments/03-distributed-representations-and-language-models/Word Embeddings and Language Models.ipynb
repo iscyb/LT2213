{
 "cells": [
  {
   "cell_type": "markdown",
   "metadata": {},
   "source": [
    "# Lab 3: Word Embeddings and Language Modelling\n",
    "\n",
    "Adam Ek"
   ]
  },
  {
   "cell_type": "markdown",
   "metadata": {},
   "source": [
    "In this lab we'll explore constructing *static* word embeddings (i.e. word2vec) and building language models. We'll also evaluate these systems on intermediate tasks, namely word similarity and identifying \"good\" and \"bad\" sentences.\n",
    "\n",
    "* For this we'll use pytorch. Some basic operations that will be useful can be found here: https://jhui.github.io/2018/02/09/PyTorch-Basic-operations\n",
    "* In general: we are not interested in getting state-of-the-art performance :) focus on the implementation and not results of your model. For this reason, you can use a subset of the dataset: the first 5000-10 000 sentences or so, on linux/mac: ```head -n 10000 inputfile > outputfile```. \n",
    "* If possible, use the MLTGpu, it will make everything faster :)"
   ]
  },
  {
   "cell_type": "code",
   "execution_count": 68,
   "metadata": {},
   "outputs": [],
   "source": [
    "import torch\n",
    "import torch.nn as nn\n",
    "import torch.nn.functional as F\n",
    "import numpy as np\n",
    "import os\n",
    "\n",
    "# for gpu, replace \"cpu\" with \"cuda:n\" where n is the index of the GPU\n",
    "#device = torch.device('cpu')\n",
    "device = torch.device('cuda:0')"
   ]
  },
  {
   "cell_type": "markdown",
   "metadata": {},
   "source": [
    "# Word2Vec embeddings\n",
    "\n",
    "In this first part we'll construct a word2vec model which will give us *static* word embeddings (that is, they are fixed after training).\n",
    "\n",
    "After we've trained our model we will evaluate the embeddings obtained on a word similarity task."
   ]
  },
  {
   "cell_type": "markdown",
   "metadata": {},
   "source": [
    "## Formatting data\n"
   ]
  },
  {
   "cell_type": "markdown",
   "metadata": {},
   "source": [
    "First we need to load some data, you can download the file on canvas under files/03-lab-data/wiki-corpus.txt. The file contains 50 000 sentences randomly selected from the complete wikipedia. Each line in the file contains one sentence. The sentences are whitespace tokenized.\n",
    "\n",
    "Your first task is to create a dataset suitable for word2vec. That is, we define some ```window_size``` then iterate over all sentences in the dataset, putting the center word in one field and the context words in another (separate the fields with ```tab```).\n",
    "\n",
    "For example, the sentece \"this is a lab\" with ```window size = 4``` will be formatted as:\n",
    "```\n",
    "center, context\n",
    "---------------------\n",
    "this    is a\n",
    "is      this a lab\n",
    "a       this is lab\n",
    "lab     is a\n",
    "```\n",
    "\n",
    "this will be our training examples when training the word2vec model.\n",
    "\n",
    "[3 marks]"
   ]
  },
  {
   "cell_type": "code",
   "execution_count": 1,
   "metadata": {},
   "outputs": [],
   "source": [
    "import os\n",
    "\n",
    "# Imports\n",
    "import pandas as pd\n",
    "import numpy as np\n",
    "import torch\n",
    "from torch.utils.data import DataLoader, Dataset\n",
    "\n",
    "import time\n",
    "from collections import namedtuple\n",
    "import collections\n",
    "import toolz"
   ]
  },
  {
   "cell_type": "code",
   "execution_count": 2,
   "metadata": {},
   "outputs": [
    {
     "data": {
      "text/plain": [
       "['Word Embeddings and Language Models.ipynb',\n",
       " '.ipynb_checkpoints',\n",
       " 'wiki-corpus.50000.txt',\n",
       " 'testing.txt',\n",
       " 'tutorial',\n",
       " 'testing.tsv',\n",
       " 'a_file.txt']"
      ]
     },
     "execution_count": 2,
     "metadata": {},
     "output_type": "execute_result"
    }
   ],
   "source": [
    "os.listdir('.')"
   ]
  },
  {
   "cell_type": "code",
   "execution_count": 8,
   "metadata": {},
   "outputs": [],
   "source": [
    "# read data\n",
    "def corpus_reader(data_path):\n",
    "    with open(data_path) as f:\n",
    "        data = f.read().splitlines()\n",
    "\n",
    "    return data"
   ]
  },
  {
   "cell_type": "code",
   "execution_count": 96,
   "metadata": {},
   "outputs": [],
   "source": [
    "# Implement custom torch Dataset\n",
    "class ContextDataset(Dataset):\n",
    "    \n",
    "    def __init__(self,\n",
    "                 raw_texts,\n",
    "                 window_size=4,\n",
    "                 tokenizer=None,\n",
    "                 lower=True,\n",
    "                 min_freq=0,\n",
    "                 unk_label='<unk>',\n",
    "                 pad_label='<pad>',\n",
    "                 verbose=False):\n",
    "        \n",
    "        \"\"\"\n",
    "        raw_texts: list of texts\n",
    "        \"\"\"\n",
    "        \n",
    "        self.verbose=verbose\n",
    "        \n",
    "        self.window_size= 4\n",
    "        self.min_freq = min_freq\n",
    "        self.unk_label, self.unk_idx = unk_label, 0\n",
    "        self.pad_label, self.pad_idx = pad_label, 1\n",
    "        \n",
    "        \n",
    "        if tokenizer is None:\n",
    "            self.tokenizer = lambda x: x.replace('.',' ').replace(',', ' ').replace('\"', ' ').split() #simple punctuation and whitespace\n",
    "        self.lower = lower\n",
    "        \n",
    "        # Load Data\n",
    "        #self.center, self.context = self.__load_tsv(self.tsv_path)\n",
    "        self.center, self.context = self.create_dataset(raw_texts)\n",
    "        \n",
    "        # Vocabulary\n",
    "        self.word_to_idx = dict()\n",
    "        self.word_to_idx[self.unk_label] = self.unk_idx\n",
    "        self.word_to_idx[self.pad_label] = self.pad_idx\n",
    "        self.word_to_idx.update({word:idx+max(self.word_to_idx.values())+1 for idx, word in enumerate(np.unique(self.center))})\n",
    "\n",
    "        # Word Counts\n",
    "        # center represents every instance of every word in the text\n",
    "        self.word_counts = pd.value_counts(self.center).to_dict()\n",
    "        \n",
    "        # Apply min_freq\n",
    "        if min_freq:\n",
    "            word_counts_over_min_freq = {k:v for k,v in self.word_counts.items() if v >= min_freq}\n",
    "            self.word_to_idx = {k:v for k,v in self.word_to_idx.items() if ((k in word_counts_over_min_freq) or k in [unk_label, pad_label])}\n",
    "            \n",
    "        self.idx_to_word = {v:k for k,v in self.word_to_idx.items()}\n",
    "        \n",
    "        # Numericalize\n",
    "        # Note I will do this in data_loader.\n",
    "        #self.center = np.array([self.numericalize(w) for w in self.center])\n",
    "        #self.context = np.array([np.array([self.numericalize(w) for w in sent]) for sent in self.context], dtype='object')\n",
    "        \n",
    "    \n",
    "    def get_window_context(self, position_index, sentence_array, window_size):\n",
    "        \"\"\"\n",
    "        returns: center_word, context_array\n",
    "\n",
    "        sentence_array = ['this', 'is', 'a', 'lab', 'filler', 'filler']\n",
    "        window_size = 4\n",
    "        position_index = 1\n",
    "\n",
    "        reutrns: is, [this, a, lab]\n",
    "        \"\"\"\n",
    "        window_range = int(np.ceil(window_size/2)) #Assume window_size is even otherwise round up. (3 -> 4)\n",
    "        context_indices = [int(i) for i in range(position_index-window_range, position_index+window_range+1) if (i>=0 and i!=position_index and i<len(sentence_array))] \n",
    "        context_array = [sentence_array[i] for i in context_indices]\n",
    "\n",
    "        return sentence_array[position_index], context_array\n",
    "    \n",
    "    def create_dataset(self, raw_texts):\n",
    "        \n",
    "        t1 = time.time()\n",
    "        c = 0\n",
    "        contexts_dfs = []\n",
    "        for sent_id, text in enumerate(raw_texts):\n",
    "            \n",
    "            if self.verbose:\n",
    "                c+=1\n",
    "                if c%1000 == 0:\n",
    "                    t2 = time.time()\n",
    "                    print(f'{c}/{len(raw_texts)}, dt = {round(t2-t1,3)}')\n",
    "                    t1 = time.time()\n",
    "                \n",
    "            text = self.tokenize(text)\n",
    "            \n",
    "            windowed_contexts = pd.DataFrame([self.get_window_context(i, text, self.window_size) for i,_ in enumerate(text)], columns = ['center', 'context'])\n",
    "            windowed_contexts['sentence_id'] = sent_id\n",
    "            contexts_dfs.append(windowed_contexts) \n",
    "        \n",
    "        dataset = pd.concat(contexts_dfs, axis=0, ignore_index=True)\n",
    "        \n",
    "        return np.array(dataset['center']), np.array(dataset['context'])\n",
    "    \n",
    "    def tokenize(self, string):\n",
    "        if self.lower:\n",
    "            string = string.lower()\n",
    "        return np.array(self.tokenizer(string))\n",
    "\n",
    "    def idx2word(self, idx_or_list):\n",
    "        try:\n",
    "            len(idx_or_list)\n",
    "            return [self.idx_to_word.get(idx, self.unk_label) for idx in idx_or_list]\n",
    "        except:\n",
    "            return self.idx_to_word.get(idx_or_list, self.unk_label)\n",
    "    \n",
    "    def word2idx(self, word_or_list):\n",
    "        \n",
    "        if isinstance(word_or_list, str):\n",
    "            return self.word_to_idx.get(word_or_list, self.unk_idx)\n",
    "        else:\n",
    "            return [self.word_to_idx.get(w, self.unk_idx) for w in word_or_list]\n",
    "        \n",
    "    def get_shuffled_data(self, seed=None): \n",
    "        np.random.seed(seed)\n",
    "        \n",
    "        rng = np.arange(len(self))\n",
    "        np.random.shuffle(rng)\n",
    "        return self.center[rng], self.context[rng]\n",
    "        \n",
    "    def __getitem__(self, idx):\n",
    "        return self.center[idx], self.context[idx]\n",
    "    \n",
    "    def __len__(self):\n",
    "        return len(self.center)\n",
    "    \n"
   ]
  },
  {
   "cell_type": "code",
   "execution_count": 31,
   "metadata": {},
   "outputs": [
    {
     "name": "stdout",
     "output_type": "stream",
     "text": [
      "TEST data parser\n",
      "----\n",
      "get_window_context test: ('is', ['this', 'a', 'lab'])\n",
      "center:context\n",
      "a : ['bomb', 'was']\n",
      "bomb : ['a', 'was', 'thrown']\n",
      "was : ['a', 'bomb', 'thrown', 'by']\n",
      "thrown : ['bomb', 'was', 'by', 'an']\n",
      "by : ['was', 'thrown', 'an', 'unknown']\n",
      "{'<unk>': 0, '<pad>': 1, 'a': 2, 'an': 3, 'bomb': 4, 'by': 5, 'coherence': 6, 'hypothesizes': 7, 'limited': 8, 'party': 9, 'that': 10, 'theory': 11, 'thrown': 12, 'unknown': 13, 'was': 14}\n"
     ]
    }
   ],
   "source": [
    "print('TEST data parser')\n",
    "test_dataset = ContextDataset(['A bomb was thrown by an unknown party', 'coherence theory hypothesizes that a limited'], window_size=4)\n",
    "print('----')\n",
    "print('get_window_context test:', test_dataset.get_window_context(1, ['this', 'is', 'a', 'lab', 'filler', 'filler'], 4))\n",
    "        \n",
    "\n",
    "print('center:context')\n",
    "for i,j in zip(test_dataset.center[0:5], test_dataset.context[0:5]):\n",
    "    print(i,':', j)\n",
    "\n",
    "print(test_dataset.word_to_idx)"
   ]
  },
  {
   "cell_type": "code",
   "execution_count": 130,
   "metadata": {},
   "outputs": [
    {
     "name": "stdout",
     "output_type": "stream",
     "text": [
      "1000/50000, dt = 1.666\n",
      "2000/50000, dt = 1.695\n",
      "3000/50000, dt = 1.66\n",
      "4000/50000, dt = 1.655\n",
      "5000/50000, dt = 1.663\n",
      "6000/50000, dt = 1.643\n",
      "7000/50000, dt = 1.67\n",
      "8000/50000, dt = 1.691\n",
      "9000/50000, dt = 1.689\n",
      "10000/50000, dt = 1.65\n",
      "11000/50000, dt = 1.633\n",
      "12000/50000, dt = 1.492\n",
      "13000/50000, dt = 1.607\n",
      "14000/50000, dt = 1.61\n",
      "15000/50000, dt = 4.07\n",
      "16000/50000, dt = 1.406\n",
      "17000/50000, dt = 1.412\n",
      "18000/50000, dt = 1.41\n",
      "19000/50000, dt = 1.398\n",
      "20000/50000, dt = 1.398\n",
      "21000/50000, dt = 1.385\n",
      "22000/50000, dt = 1.401\n",
      "23000/50000, dt = 1.399\n",
      "24000/50000, dt = 1.382\n",
      "25000/50000, dt = 1.413\n",
      "26000/50000, dt = 1.382\n",
      "27000/50000, dt = 1.372\n",
      "28000/50000, dt = 1.352\n",
      "29000/50000, dt = 1.346\n",
      "30000/50000, dt = 1.347\n",
      "31000/50000, dt = 1.368\n",
      "32000/50000, dt = 1.36\n",
      "33000/50000, dt = 1.341\n",
      "34000/50000, dt = 1.355\n",
      "35000/50000, dt = 1.364\n",
      "36000/50000, dt = 1.449\n",
      "37000/50000, dt = 1.405\n",
      "38000/50000, dt = 1.406\n",
      "39000/50000, dt = 1.406\n",
      "40000/50000, dt = 1.419\n",
      "41000/50000, dt = 1.418\n",
      "42000/50000, dt = 1.392\n",
      "43000/50000, dt = 1.411\n",
      "44000/50000, dt = 1.417\n",
      "45000/50000, dt = 1.418\n",
      "46000/50000, dt = 4.512\n",
      "47000/50000, dt = 1.428\n",
      "48000/50000, dt = 1.427\n",
      "49000/50000, dt = 1.413\n",
      "50000/50000, dt = 1.409\n"
     ]
    }
   ],
   "source": [
    "# Actual Data\n",
    "\n",
    "data_path = '03-lab-data/wiki-corpus.50000.txt'\n",
    "raw_texts = corpus_reader(data_path)\n",
    "dataset = ContextDataset(raw_texts, window_size=4, verbose=True)\n"
   ]
  },
  {
   "cell_type": "code",
   "execution_count": 27,
   "metadata": {},
   "outputs": [
    {
     "name": "stdout",
     "output_type": "stream",
     "text": [
      "anarchist : ['historian', 'george']\n",
      "historian : ['anarchist', 'george', 'woodcock']\n",
      "george : ['anarchist', 'historian', 'woodcock', 'reports']\n",
      "woodcock : ['historian', 'george', 'reports', 'that']\n",
      "reports : ['george', 'woodcock', 'that', 'the']\n",
      "that : ['woodcock', 'reports', 'the', 'annual']\n",
      "the : ['reports', 'that', 'annual', 'congress']\n",
      "annual : ['that', 'the', 'congress', 'of']\n",
      "congress : ['the', 'annual', 'of', 'the']\n",
      "of : ['annual', 'congress', 'the', 'international']\n"
     ]
    }
   ],
   "source": [
    "for i,j in zip(context_dataset.center[0:10], context_dataset.context[0:10]):\n",
    "    print(i,':', j)"
   ]
  },
  {
   "cell_type": "markdown",
   "metadata": {},
   "source": [
    "We sampled 50 000 senteces completely random from the *whole* wikipedia for our training data. Give some reasons why this is good, and why it might be bad. (*note*: We'll have a few questions like these, one or two reasons for and against is sufficient)\n",
    "\n",
    "[2 marks]"
   ]
  },
  {
   "cell_type": "markdown",
   "metadata": {},
   "source": [
    "**Notes**\n",
    "\n",
    "torch tensor does not handle arrays of arrays of different length. So we need padding. Considering \n",
    "\n",
    "\n",
    "**GOOD**\n",
    "- It is fair too assume wikipedia doesnt contain too much bias.\n",
    "\n",
    "**BAD**\n",
    "- 50k sentences spread out over all of wikipedia might too small a sample, as the contexts can vary a lot."
   ]
  },
  {
   "cell_type": "markdown",
   "metadata": {},
   "source": [
    "### Loading the data\n",
    "\n",
    "We now need to load the data in an appropriate format for torchtext (https://torchtext.readthedocs.io/en/latest/). We'll use PyText for this and it'll follow the same structure as I showed you in the lecture (remember to lower-case all tokens). Create a function which returns a (bucket)iterator of the training data, and the vocabulary object (```Field```). \n",
    "\n",
    "(*hint1*: you can format the data such that the center word always is first, then you only need to use one field)\n",
    "\n",
    "(*hint2*: the code I showed you during the leture is available in /files/pytorch_tutorial/ on canvas)\n",
    "\n",
    "[4 marks]"
   ]
  },
  {
   "cell_type": "code",
   "execution_count": 21,
   "metadata": {},
   "outputs": [
    {
     "name": "stdout",
     "output_type": "stream",
     "text": [
      "TEST Dataset\n",
      "-------\n",
      "Test min_freq=2\n",
      "test getitem: ('a', array(['bomb', 'was'], dtype='<U4'))\n",
      "test len: 14\n",
      "vocab {'<unk>': 0, '<pad>': 1, 'a': 2}\n",
      "count:\n",
      " {'a': 2, 'bomb': 1, 'was': 1, 'thrown': 1, 'by': 1, 'an': 1, 'unknown': 1, 'party': 1, 'coherence': 1, 'theory': 1, 'hypothesizes': 1, 'that': 1, 'limited': 1}\n",
      "\n",
      "Test min_freq=0\n",
      "test getitem: ('a', array(['bomb', 'was'], dtype='<U4'))\n",
      "test len: 14\n",
      "vocab {'<unk>': 0, '<pad>': 1, 'a': 2, 'an': 3, 'bomb': 4, 'by': 5, 'coherence': 6, 'hypothesizes': 7, 'limited': 8, 'party': 9, 'that': 10, 'theory': 11, 'thrown': 12, 'unknown': 13, 'was': 14}\n",
      "\n",
      "test shuffle_data\n",
      "before: ['a' 'bomb']\n",
      "after: ['party' 'hypothesizes']\n",
      "test word2idx context\n",
      "['a' 'was' 'thrown']\n",
      "[2, 14, 12]\n"
     ]
    }
   ],
   "source": [
    "print('TEST Dataset')\n",
    "print('-------')\n",
    "\n",
    "print('Test min_freq=2')\n",
    "dataset = ContextDataSet('testing.tsv', min_freq=2)\n",
    "print('test getitem:',dataset[0])\n",
    "print('test len:', len(dataset))\n",
    "print('vocab', dataset.word_to_idx)\n",
    "print('count:\\n', dataset.word_counts)\n",
    "print()\n",
    "print('Test min_freq=0')\n",
    "dataset = ContextDataSet('testing.tsv', min_freq=0)\n",
    "print('test getitem:',dataset[0])\n",
    "print('test len:', len(dataset))\n",
    "print('vocab', dataset.word_to_idx)\n",
    "\n",
    "print()\n",
    "print('test shuffle_data')\n",
    "print('before:', dataset.center[0:2])\n",
    "\n",
    "c,_ = dataset.get_shuffled_data(seed=123)\n",
    "print('after:', c[0:2])\n",
    "\n",
    "print('test word2idx context')\n",
    "print(dataset.context[1])\n",
    "print(dataset.word2idx(dataset.context[1]))"
   ]
  },
  {
   "cell_type": "code",
   "execution_count": 36,
   "metadata": {},
   "outputs": [],
   "source": [
    "# Custom loader\n",
    "\n",
    "from collections import namedtuple\n",
    "from toolz import take\n",
    "from itertools import tee\n",
    "\n",
    "def get_loader(dataset, batch_size, shuffle=True):\n",
    "    \n",
    "    if shuffle:\n",
    "        centers, contexts = dataset.get_shuffled_data() \n",
    "    else:\n",
    "        centers = dataset.center\n",
    "        contexts = dataset.context\n",
    "        \n",
    "    centers = iter(centers)\n",
    "    contexts = iter(contexts)\n",
    "    Batch = namedtuple('Batch', ['contexts', 'centers'])\n",
    "    for i in range(int(len(dataset)/batch_size)+1):\n",
    "        batch_centers = take(batch_size, centers)\n",
    "        if not batch_centers:\n",
    "            continue\n",
    "        batch_contexts, bc2 = tee(take(batch_size, contexts))\n",
    "        \n",
    "        #padding and word2idx - this part i think is refered to as Collate in torch.\n",
    "        batch_centers = torch.tensor(dataset.word2idx(batch_centers))\n",
    "        max_len = max([len(x) for x in bc2])\n",
    "        batch_contexts = torch.tensor([dataset.word2idx(s)+[dataset.pad_idx]*(max_len-len(s)) for s in batch_contexts])\n",
    "\n",
    "        yield Batch(batch_contexts, batch_centers)\n",
    "        \n",
    "# Todo try with torch.DataLoader\n"
   ]
  },
  {
   "cell_type": "code",
   "execution_count": 37,
   "metadata": {},
   "outputs": [
    {
     "name": "stdout",
     "output_type": "stream",
     "text": [
      "TEST (CUSTOM) LOADER\n",
      "torch.Size([5, 4])\n",
      "[2, 4, 14, 12, 5]\n",
      "['a', 'bomb', 'was', 'thrown', 'by']\n",
      "[['bomb', 'was', '<pad>', '<pad>'], ['a', 'was', 'thrown', '<pad>'], ['a', 'bomb', 'thrown', 'by'], ['bomb', 'was', 'by', 'an'], ['was', 'thrown', 'an', 'unknown']]\n",
      "\n",
      "torch.Size([5, 4])\n",
      "[3, 13, 9, 6, 11]\n",
      "['an', 'unknown', 'party', 'coherence', 'theory']\n",
      "[['thrown', 'by', 'unknown', 'party'], ['by', 'an', 'party', '<pad>'], ['an', 'unknown', '<pad>', '<pad>'], ['theory', 'hypothesizes', '<pad>', '<pad>'], ['coherence', 'hypothesizes', 'that', '<pad>']]\n",
      "\n",
      "torch.Size([4, 4])\n",
      "[7, 10, 2, 8]\n",
      "['hypothesizes', 'that', 'a', 'limited']\n",
      "[['coherence', 'theory', 'that', 'a'], ['theory', 'hypothesizes', 'a', 'limited'], ['hypothesizes', 'that', 'limited', '<pad>'], ['that', 'a', '<pad>', '<pad>']]\n",
      "\n"
     ]
    }
   ],
   "source": [
    "print('TEST (CUSTOM) LOADER')\n",
    "test_loader = get_loader(test_dataset, 5, shuffle=False)\n",
    "for cont, cent in test_loader:\n",
    "    print(np.shape(cont)) # Note: batch_first\n",
    "    print(cent.tolist())\n",
    "    print(test_dataset.idx2word(cent.tolist()))\n",
    "    print([test_dataset.idx2word(c) for c in cont.tolist()])\n",
    "    print()"
   ]
  },
  {
   "cell_type": "markdown",
   "metadata": {},
   "source": [
    "We lower-cased all tokens above; give some reasons why this is a good idea, and why it may be harmful to our embeddings.\n",
    "\n",
    "[2 marks]"
   ]
  },
  {
   "cell_type": "markdown",
   "metadata": {},
   "source": [
    "**Good**\n",
    "\n",
    "Does not differentiate between differentiate between different capitalization between words. Example: CBOW, Cbow, cbow\n",
    "\n",
    "**Bad**\n",
    "\n",
    "Incorrectly clumps together it and IT, for example"
   ]
  },
  {
   "cell_type": "markdown",
   "metadata": {},
   "source": [
    "## Word Embeddings Model"
   ]
  },
  {
   "cell_type": "markdown",
   "metadata": {},
   "source": [
    "We will implement the CBOW model for constructing word embedding models."
   ]
  },
  {
   "cell_type": "markdown",
   "metadata": {},
   "source": [
    "In the CBOW model we try to predict the center word based on the context. That is, we take as input ```n``` context words, encode them as vectors, then combine them by summation. This will give us one embedding. We then use this embedding to predict *which* word in our vocabuary is the most likely center word. \n",
    "\n",
    "Implement this model \n",
    "\n",
    "[7 marks]"
   ]
  },
  {
   "cell_type": "code",
   "execution_count": 47,
   "metadata": {},
   "outputs": [
    {
     "data": {
      "text/plain": [
       "tensor([[[ 1.1961, -0.6697],\n",
       "         [ 0.3590,  2.0615],\n",
       "         [ 0.0976, -0.2442]],\n",
       "\n",
       "        [[-0.7626, -0.0066],\n",
       "         [-0.1489, -2.4616],\n",
       "         [ 0.8705,  1.5389]]])"
      ]
     },
     "metadata": {},
     "output_type": "display_data"
    }
   ],
   "source": [
    "a = torch.randn(2,3,2)\n",
    "display(a)\n",
    "b = torch.sum(a,dim= 1)"
   ]
  },
  {
   "cell_type": "code",
   "execution_count": 48,
   "metadata": {},
   "outputs": [
    {
     "data": {
      "text/plain": [
       "torch.Size([2, 2])"
      ]
     },
     "execution_count": 48,
     "metadata": {},
     "output_type": "execute_result"
    }
   ],
   "source": [
    "b.shape"
   ]
  },
  {
   "cell_type": "code",
   "execution_count": null,
   "metadata": {},
   "outputs": [],
   "source": [
    "class CBOWModel(nn.Module):\n",
    "    def __init__(self, vocab_size, embedding_dim, padding_idx=None):\n",
    "        super().__init__()\n",
    "        self.embeddings = nn.Embedding(vocab_size, embedding_dim, padding_idx=padding_idx)\n",
    "        self.prediction = nn.Linear(embedding_dim, vocab_size) # we dont need context_size*embedding_dim because we will apply summation before.\n",
    "    \n",
    "    def forward(self, context):\n",
    "        # context (B, S)\n",
    "        embedded_context = self.embeddings(context) #(B, S, D)\n",
    "        projection = self.projection_function(embedded_context)\n",
    "        predictions = self.prediction(projection)\n",
    "        #return predictions\n",
    "        output = F.softmax(predictions, dim=0) # do we need this?\n",
    "        return output\n",
    "        \n",
    "    def projection_function(self, xs):\n",
    "        #This is alternative to another linear layer. Basically linear layer with same coefficient.\n",
    "        \"\"\"\n",
    "        This function will take as input a tensor of size (B, S, D)\n",
    "        where B is the batch_size, S the window size, and D the dimensionality of embeddings\n",
    "        this function should compute the sum over the embedding dimensions of the input, \n",
    "        that is, we transform (B, S, D) to (B, 1, D) or (B, D) \n",
    "        \"\"\"\n",
    "        xs_sum = torch.sum(xs, dim=1) \n",
    "        return xs_sum"
   ]
  },
  {
   "cell_type": "code",
   "execution_count": 132,
   "metadata": {},
   "outputs": [
    {
     "data": {
      "text/plain": [
       "1154276"
      ]
     },
     "execution_count": 132,
     "metadata": {},
     "output_type": "execute_result"
    }
   ],
   "source": [
    "len(dataset)"
   ]
  },
  {
   "cell_type": "code",
   "execution_count": 136,
   "metadata": {},
   "outputs": [
    {
     "name": "stdout",
     "output_type": "stream",
     "text": [
      "Batch 0 : Average Loss = 11.22902\n"
     ]
    }
   ],
   "source": [
    "\n",
    "vocab = dataset.word_to_idx\n",
    "len_vocab = len(vocab)\n",
    "#dataset, vocab = get_data(...)\n",
    "\n",
    "# build model and construct loss/optimizer\n",
    "cbow_model = CBOWModel(len_vocab, word_embeddings_hyperparameters['embedding_dim'], padding_idx=dataset.pad_idx)\n",
    "loss_fn = nn.CrossEntropyLoss()\n",
    "optimizer = optim.Adam(cbow_model.parameters(), lr=word_embeddings_hyperparameters['learning_rate'])\n",
    "\n",
    "# start training loop\n",
    "\n",
    "for epoch in range(word_embeddings_hyperparameters['epochs']):\n",
    "    loader =  get_loader(dataset, word_embeddings_hyperparameters['batch_size'])\n",
    "    total_loss = 0\n",
    "    for i, batch in enumerate(loader):\n",
    "        context = batch.contexts\n",
    "        #target_word = batch.target_word\n",
    "        centers = batch.centers\n",
    "        #Note: this is not nessecary - the loss function understands.\n",
    "        #targets = torch.zeros(len(centers), len_vocab)\n",
    "        #for j, idx in enumerate(centers): #one hot encoding\n",
    "         #   targets[j][idx] = 1\n",
    "        \n",
    "        \n",
    "        # send your batch of sentences to the model\n",
    "        output = cbow_model(context)\n",
    "        \n",
    "        loss = loss_fn(output, centers)\n",
    "        total_loss += loss.item()\n",
    "        print(f'Batch {i} : Average Loss = {round(total_loss/(i+1),5)}')#, end='\\r')\n",
    "        \n",
    "        # calculate gradients\n",
    "        loss.backward()\n",
    "        # update model weights\n",
    "        optimizer.step()\n",
    "        # reset gradients\n",
    "        optimizer.zero_grad()\n",
    "\n",
    "    print(f'Epoch {epoch} : Average Loss = {round(total_loss/(i+1),5)}')#, end='\\r')"
   ]
  },
  {
   "cell_type": "code",
   "execution_count": 134,
   "metadata": {},
   "outputs": [],
   "source": [
    "# you can change these numbers to suit your needs :)\n",
    "word_embeddings_hyperparameters = {'epochs':3,\n",
    "                                   'batch_size':16,\n",
    "                                   'embedding_size':128, #What is this?\n",
    "                                   'learning_rate':0.001,\n",
    "                                   'embedding_dim':128}\n",
    "\n",
    "word_embeddings_hyperparameters = {'epochs':5,\n",
    "                                   'batch_size':4096,\n",
    "                                   'learning_rate':0.005,\n",
    "                                   'embedding_dim':128}"
   ]
  },
  {
   "cell_type": "markdown",
   "metadata": {},
   "source": [
    "Train your model. Iterate over the dataset, get outputs from your model, calculate loss and backpropagate.\n",
    "\n",
    "We mentioned in the lecture that we use Negative Log Likelihood (https://pytorch.org/docs/stable/generated/torch.nn.NLLLoss.html) loss to train Word2Vec model. In this lab we'll take a shortcut when *training* and use Cross Entropy Loss (https://pytorch.org/docs/stable/generated/torch.nn.CrossEntropyLoss.html), basically it combines ```log_softmax``` and ```NLLLoss```. So what your model should output is a *score* for each word in our vocabulary. The ```CrossEntropyLoss``` will then assign probabilities and calculate the negative log likelihood loss.\n",
    "\n",
    "[3 marks]"
   ]
  },
  {
   "cell_type": "code",
   "execution_count": null,
   "metadata": {},
   "outputs": [],
   "source": [
    "# load data\n",
    "loader =  get_loader(dataset, word_embeddings_hyperparameters['batch_size'])\n",
    "vocab = dataset.word_to_idx\n",
    "len_vocab = len(vocab)\n",
    "#dataset, vocab = get_data(...)\n",
    "\n",
    "# build model and construct loss/optimizer\n",
    "cbow_model = CBOWModel(len_vocab, word_embeddings_hyperparameters['embedding_dim'])\n",
    "cbow_model.to(device)\n",
    "loss_fn = nn.CrossEntropyLoss()\n",
    "optimizer = optim.Adam(cbow_model.parameters(), lr=word_embeddings_hyperparameters['learning_rate'])\n",
    "\n",
    "# start training loop\n",
    "total_loss = 0\n",
    "for epoch in range(word_embeddings_hyperparameters['epochs']):\n",
    "    for i, batch in enumerate(loader):\n",
    "        \n",
    "        context = batch.contexts\n",
    "        #target_word = batch.target_word\n",
    "        centers = batch.centers\n",
    "        targets = torch.zeros(len(targets), len_vocab)\n",
    "        for j, idx in enumerate(centers): #one hot encoding\n",
    "            targets[j][idx] = 1\n",
    "        \n",
    "        \n",
    "        \n",
    "        # send your batch of sentences to the model\n",
    "        output = cbow_model(context)\n",
    "        \n",
    "        # compute the loss, you'll need to reshape the input\n",
    "        # you can read more about this is the documentation for\n",
    "        # CrossEntropyLoss\n",
    "        loss = loss_fn(output, targets)\n",
    "        total_loss += loss.item()\n",
    "        \n",
    "        # print average loss for the epoch\n",
    "        \n",
    "        \n",
    "        # compute gradients\n",
    "        #...\n",
    "        \n",
    "        # update parameters\n",
    "        #...\n",
    "        \n",
    "        # reset gradients\n",
    "        #...\n",
    "    print(f'Epoch {epoch} : Average Loss = {round(total_loss/(i+1),5)}', end='\\r') \n",
    "    break\n",
    "    print()\n",
    "        "
   ]
  },
  {
   "cell_type": "code",
   "execution_count": null,
   "metadata": {},
   "outputs": [],
   "source": [
    "# load data\n",
    "dataset, vocab = get_data(...)\n",
    "\n",
    "# build model and construct loss/optimizer\n",
    "cbow_model = CBOWModel(len(vocab), word_embeddings_hyperparameters['embedding_dim'])\n",
    "cbow_model.to(device)\n",
    "loss_fn = nn.CrossEntropyLoss()\n",
    "optimizer = optim.Adam(cbow_model.parameters(), lr=word_embeddings_hyperparameters['lr'])\n",
    "\n",
    "# start training loop\n",
    "total_loss = 0\n",
    "for epoch in range(word_embeddings_hyperparameters['epochs']):\n",
    "    for i, batch in enumerate(dataset):\n",
    "        \n",
    "        context = batch.context\n",
    "        target_word = batch.target_word\n",
    "        \n",
    "        # send your batch of sentences to the model\n",
    "        output = cbow_model(context)\n",
    "        \n",
    "        # compute the loss, you'll need to reshape the input\n",
    "        # you can read more about this is the documentation for\n",
    "        # CrossEntropyLoss\n",
    "        loss = loss_fn(...)\n",
    "        total_loss += loss.item()\n",
    "        \n",
    "        # print average loss for the epoch\n",
    "        print(total_loss/(i+1), end='\\r') \n",
    "        \n",
    "        # compute gradients\n",
    "        ...\n",
    "        \n",
    "        # update parameters\n",
    "        ...\n",
    "        \n",
    "        # reset gradients\n",
    "        ...\n",
    "    print()\n",
    "        "
   ]
  },
  {
   "cell_type": "markdown",
   "metadata": {},
   "source": [
    "## Evaluating the model"
   ]
  },
  {
   "cell_type": "markdown",
   "metadata": {},
   "source": [
    "We will evaluate the model on a dataset of word similarities, WordSim353 (http://alfonseca.org/eng/research/wordsim353.html , also avalable in vanvas under files/03-l). The first thing we need to do is read the dataset and translate it to integers. What we'll do is to reuse the ```Field``` that records word indexes (the second output of ```get_data()```) and use it to parse the file.\n",
    "\n",
    "The wordsim data is structured as follows:\n",
    "\n",
    "```\n",
    "word1 word2 score\n",
    "...\n",
    "```\n",
    "\n",
    "\n",
    "The ```Field``` we got from ```read_data()``` has two built-in functions, ```stoi``` which maps a string to an integer and ```itos``` which maps an integer to a string. \n",
    "\n",
    "What our datareader needs to do is: \n",
    "\n",
    "```\n",
    "for line in file:\n",
    "    word1, word2, score = file.split()\n",
    "    # encode word1 and word2 as integers\n",
    "    word1_idx = vocab.vocab.stoi[word1]\n",
    "    word2_idx = vocab.vocab.stoi[word2]\n",
    "```\n",
    "\n",
    "when we have the integers for ```word_1``` and ```word2``` we'll compute the similarity between their word embeddings with *cosine simlarity*. We can obtain the embeddings by querying the embedding layer of the model.\n",
    "\n",
    "We calculate the cosine similarity for each word pair in the dataset, then compute the pearson correlation between the similarities we obtained with the scores given in the dataset. \n",
    "\n",
    "[4 marks]"
   ]
  },
  {
   "cell_type": "code",
   "execution_count": null,
   "metadata": {},
   "outputs": [],
   "source": [
    "# your code goes here\n",
    "\n",
    "def read_wordsim(path, vocab, embeddings):\n",
    "    dataset_sims = []\n",
    "    model_sims = []\n",
    "    with open(path) as f:\n",
    "        for line in f:\n",
    "            word1, word2, score = f.split()\n",
    "            \n",
    "            score = float(score)\n",
    "            dataset_sims.append(score)\n",
    "            \n",
    "            # get the index for the word\n",
    "            word1_idx = ...\n",
    "            word2_idx = ...\n",
    "            \n",
    "            # get the embedding of the word\n",
    "            word1_emb = ...\n",
    "            word2_emb = ...\n",
    "            \n",
    "            # compute cosine similarity, we'll use the version included in pytorch functional\n",
    "            # https://pytorch.org/docs/master/generated/torch.nn.functional.cosine_similarity.html\n",
    "            cosine_similarity = F.cosine_similarity(...)\n",
    "            \n",
    "            model_sims.append(cosine_similarity.item())\n",
    "    \n",
    "    return dataset_sims, model_sims\n",
    "\n",
    "path = 'wordsim_similarity_goldstandard.txt'\n",
    "data, model = read_wordsim(...)\n",
    "pearson_correlation = np.corrcoef(data, model)\n",
    "            \n",
    "# the non-diagonals give the pearson correlation,\n",
    "print(pearson_correlation)"
   ]
  },
  {
   "cell_type": "markdown",
   "metadata": {},
   "source": [
    "Do you think the model performs good or bad? Why?\n",
    "\n",
    "[3 marks]"
   ]
  },
  {
   "cell_type": "code",
   "execution_count": null,
   "metadata": {},
   "outputs": [],
   "source": []
  },
  {
   "cell_type": "markdown",
   "metadata": {},
   "source": [
    "Select the 10 best and 10 worst performing word pairs, can you see any patterns that explain why *these* are the best and worst word pairs?\n",
    "\n",
    "[3 marks]"
   ]
  },
  {
   "cell_type": "code",
   "execution_count": null,
   "metadata": {},
   "outputs": [],
   "source": []
  },
  {
   "cell_type": "markdown",
   "metadata": {},
   "source": [
    "Suggest some ways of improving the model we apply to WordSim353.\n",
    "\n",
    "[3 marks]"
   ]
  },
  {
   "cell_type": "code",
   "execution_count": null,
   "metadata": {},
   "outputs": [],
   "source": []
  },
  {
   "cell_type": "markdown",
   "metadata": {},
   "source": [
    "If we consider a scenario where we use these embeddings in a downstream task, for example sentiment analysis (roughly: determining whether a sentence is positive or negative). \n",
    "\n",
    "Give some examples why the sentiment analysis model would benefit from our embeddnings and one examples why our embeddings could hur the performance of the sentiment model.\n",
    "\n",
    "[3 marks]"
   ]
  },
  {
   "cell_type": "code",
   "execution_count": null,
   "metadata": {},
   "outputs": [],
   "source": []
  },
  {
   "cell_type": "markdown",
   "metadata": {},
   "source": [
    "# Language modeling"
   ]
  },
  {
   "cell_type": "markdown",
   "metadata": {},
   "source": [
    "In this second part we'll build a simple LSTM language model. Your task is to construct a model which takes a sentence as input and predict the next word for each word in the sentence. For this you'll use the ```LSTM``` class provided by PyTorch (https://pytorch.org/docs/stable/generated/torch.nn.LSTM.html). You can read more about the LSTM here: https://colah.github.io/posts/2015-08-Understanding-LSTMs/\n",
    "\n",
    "NOTE!!!: Use the same dataset (wiki-cropus.txt) as before.\n",
    "\n",
    "Our setup is similar to before, we first encode the words as distributed representations then pass these to the LSTM and for each output we predict the next word.\n",
    "\n",
    "For this we'll build a new dataloader with torchtext, the file we pass to the dataloader should contain one sentence per line, with words separated by whitespace.\n",
    "\n",
    "```\n",
    "word_1, ..., word_n\n",
    "word_1, ..., word_k\n",
    "...\n",
    "```\n",
    "\n",
    "in this dataloader you want to make sure that each sentence begins with a ```<start>``` token and ends with a ```<end>``` token, there is a keyword argument in ```Field``` for this :). But other than that, as before you read the dataset and output a iterator over the dataset and a vocabulary. \n",
    "\n",
    "Implement the dataloader, language model and the training loop (the training loop will basically be the same as for word2vec).\n",
    "\n",
    "[12 marks]"
   ]
  },
  {
   "cell_type": "code",
   "execution_count": null,
   "metadata": {},
   "outputs": [],
   "source": [
    "# you can change these numbers to suit your needs as before :)\n",
    "lm_hyperparameters = {'epochs':3,\n",
    "                      'batch_size':16,\n",
    "                      'learning_rate':0.001,\n",
    "                      'embedding_dim':128,\n",
    "                      'output_dim':128}"
   ]
  },
  {
   "cell_type": "code",
   "execution_count": null,
   "metadata": {},
   "outputs": [],
   "source": [
    "data_path = 'wiki-corpus.txt'\n",
    "def get_data():\n",
    "    # your code here, roughly the same as for the word2vec dataloader"
   ]
  },
  {
   "cell_type": "code",
   "execution_count": null,
   "metadata": {},
   "outputs": [],
   "source": [
    "class LM_withLSTM(nn.Module):\n",
    "    def __init__(...):\n",
    "        super(LM_withLSTM, self).__init__()\n",
    "        self.embeddings = ...\n",
    "        self.LSTM = ...\n",
    "        self.predict_word = ...\n",
    "    \n",
    "    def forward(self, seq):\n",
    "        embedded_seq = ...\n",
    "        timestep_reprentation, *_ = ...\n",
    "        predicted_words = ...\n",
    "        \n",
    "        return predicted_words"
   ]
  },
  {
   "cell_type": "code",
   "execution_count": null,
   "metadata": {},
   "outputs": [],
   "source": [
    "# load data\n",
    "dataset, vocab = get_data(...)\n",
    "\n",
    "# build model and construct loss/optimizer\n",
    "lm_model = LM_withLSTM(len(vocab), \n",
    "                       lm_hyperparameters['embedding_dim'],\n",
    "                       lm_hyperparameters['output_dim'])\n",
    "lm_model.to(device)\n",
    "\n",
    "loss_fn = CrossEntropyLoss()\n",
    "optimizer = optim.Adam(cbow_model.parameters(), lr=lm_hyperparameters['lr'])\n",
    "\n",
    "# start training loop\n",
    "total_loss = 0\n",
    "for epoch in range(lm_hyperparameters['epochs']):\n",
    "    for i, batch in enumerate(dataset):\n",
    "        \n",
    "        # the strucure for each BATCH is:\n",
    "        # <start>, w0, ..., wn, <end>\n",
    "        sentence = batch.sentence\n",
    "        \n",
    "        # when training the model, at each input we predict the *NEXT* token\n",
    "        # consequently there is nothing to predict when we give the model \n",
    "        # <end> as input. \n",
    "        # thus, we do not want to give <end> as input to the model, select \n",
    "        # from each batch all tokens except the last. \n",
    "        # tip: use pytorch indexing/slicing (same as numpy) \n",
    "        # (https://pytorch.org/tutorials/beginner/basics/tensorqs_tutorial.html#operations-on-tensors)\n",
    "        # (https://jhui.github.io/2018/02/09/PyTorch-Basic-operations/)\n",
    "        input_sentence = ...\n",
    "        \n",
    "        # send your batch of sentences to the model\n",
    "        output = lm_model(input_sentence)\n",
    "        \n",
    "        # for each output, the model predict the NEXT token, so we have to reshape \n",
    "        # our dataset again. On timestep t, we evaluate on token t+1. That is,\n",
    "        # we never predict the <start> token ;) so this time, we select all but the first \n",
    "        # token from sentences (that is, all the tokens that we predict)\n",
    "        gold_data = ...\n",
    "        \n",
    "        # the shape of the output and sentence variable need to be changed,\n",
    "        # for the loss function. Details are in the documentation.\n",
    "        # You can use .view(...,...) to reshape the tensors  \n",
    "        loss = loss_fn(...)\n",
    "        total_loss += loss.item()\n",
    "        \n",
    "        # print average loss for the epoch\n",
    "        print(total_loss/(i+1), end='\\r') \n",
    "        \n",
    "        # compute gradients\n",
    "        ...\n",
    "        \n",
    "        # update parameters\n",
    "        ...\n",
    "        \n",
    "        # reset gradients\n",
    "        ...\n",
    "    print()"
   ]
  },
  {
   "cell_type": "markdown",
   "metadata": {},
   "source": [
    "### Evaluating the language model\n",
    "\n",
    "We'll evaluate our model using the BLiMP dataset (https://github.com/alexwarstadt/blimp). The BLiMP dataset contains sets of linguistic minimal pairs for various syntactic and semantic phenomena, We'll evaluate our model on *existential quantifiers* (link: https://github.com/alexwarstadt/blimp/blob/master/data/existential_there_quantifiers_1.jsonl). This data, as the name suggests, investigate whether language models assign higher probability to *correct* usage of there-quantifiers. \n",
    "\n",
    "An example entry in the dataset is: \n",
    "\n",
    "```\n",
    "{\"sentence_good\": \"There was a documentary about music irritating Allison.\", \"sentence_bad\": \"There was each documentary about music irritating Allison.\", \"field\": \"semantics\", \"linguistics_term\": \"quantifiers\", \"UID\": \"existential_there_quantifiers_1\", \"simple_LM_method\": true, \"one_prefix_method\": false, \"two_prefix_method\": false, \"lexically_identical\": false, \"pairID\": \"0\"}\n",
    "```\n",
    "\n",
    "Download the dataset and build a datareader (similar to what you did for word2vec). The dataset structure you should aim for is (you don't need to worry about the other keys for this assignment):\n",
    "\n",
    "```\n",
    "good_sentence_1, bad_sentence_1\n",
    "...\n",
    "```\n",
    "\n",
    "your task now is to compare the probability assigned to the good sentence with to the probability assigned to the bad sentence. To compute a probability for a sentence we consider the product of the probabilities assigned to the *gold* tokens, remember, at timestep ```t``` we're predicting which token comes *next* e.g. ```t+1``` (basically, you do the same thing as you did when training).\n",
    "\n",
    "In rough pseudo code what your code should do is:\n",
    "\n",
    "```\n",
    "accuracy = []\n",
    "for good_sentence, bad_sentence in dataset:\n",
    "    gs_lm_output = LanguageModel(good_sentence)\n",
    "    gs_token_probabilities = softmax(gs_lm_output)\n",
    "    gs_sentence_probability = product(gs_token_probabilities[GOLD_TOKENS])\n",
    "\n",
    "    bs_lm_output = LanguageModel(bad_sentence)\n",
    "    bs_token_probabilities = softmax(bs_lm_output)\n",
    "    bs_sentence_probability = product(bs_token_probabilities[GOLD_TOKENS])\n",
    "\n",
    "    # int(True) = 1 and int(False) = 0\n",
    "    is_correct = int(gs_sentence_probability > bs_sentence_probability)\n",
    "    accuracy.append(is_correct)\n",
    "\n",
    "print(numpy.mean(accuracy))\n",
    "    \n",
    "```\n",
    "\n",
    "[6 marks]"
   ]
  },
  {
   "cell_type": "code",
   "execution_count": null,
   "metadata": {},
   "outputs": [],
   "source": [
    "# your code goes here\n",
    "import json\n",
    "\n",
    "def evaluate_model(path, vocab, model):\n",
    "    \n",
    "    accuracy = []\n",
    "    with open(path) as f:\n",
    "        # iterate over one pair of sentences at a time\n",
    "        for line in f:\n",
    "            # load the data\n",
    "            data = json.loads(line)\n",
    "            good_s = data['sentence_good']\n",
    "            bad_s = data['sentence_bad']\n",
    "            \n",
    "            # the data is tokenized as whitespace\n",
    "            tok_good_s = ...\n",
    "            tok_bad_s = ...\n",
    "            \n",
    "            # encode your words as integers using the vocab from the dataloader, size is (S)\n",
    "            # we use unsqueeze to create the batch dimension \n",
    "            # in this case our input is only ONE batch, so the size of the tensor becomes: \n",
    "            # (S) -> (1, S) as the model expects batches\n",
    "            enc_good_s = torch.tensor([_ for x in tok_good_s], device=device).unsqueeze(0)\n",
    "            enc_bad_s = torch.tensor([_ for x in tok_bad_s], device=device).unsqueeze(0)\n",
    "            \n",
    "            # pass your encoded sentences to the model and predict the next tokens\n",
    "            good_s = LM_withLSTM(enc_good_s)\n",
    "            bad_s = LM_withLSTM(enc_bad_s)\n",
    "            \n",
    "            # get probabilities with softmax\n",
    "            gs_probs = F.softmax(...)\n",
    "            bs_probs = F.softmax(...)\n",
    "            \n",
    "            # select the probability of the gold tokens\n",
    "            gs_sent_prob = find_token_probs(gs_probs, enc_good_s)\n",
    "            bs_sent_prob = find_token_probs(bs_probs, enc_bad_s)\n",
    "            \n",
    "            accuracy.append(int(gs_sent_prob>bs_sent_prob))\n",
    "            \n",
    "    return accuracy\n",
    "            \n",
    "def find_token_probs(model_probs, encoded_sentece):\n",
    "    probs = []\n",
    "\n",
    "    # iterate over the tokens in your encoded sentence\n",
    "    for token, gold_token in enumerate(encoded_sentece):\n",
    "        # select the probability of the gold tokens and save\n",
    "        # hint: pytorch indexing is helpful here ;)\n",
    "        prob = ...\n",
    "        probs.append(prob)\n",
    "    sentence_prob = ...\n",
    "    return sentence_prob\n",
    "\n",
    "path = 'existential_there_quantifiers_1.jsonl'\n",
    "accuracy = evaluate_model(path, ..., ...)\n",
    "\n",
    "print('Final accuracy:')\n",
    "print(np.round(np.mean(accuracy), 3))\n"
   ]
  },
  {
   "cell_type": "markdown",
   "metadata": {},
   "source": [
    "### Analysis"
   ]
  },
  {
   "cell_type": "markdown",
   "metadata": {},
   "source": [
    "Our model get some score, say, 55% correct predictions. Is this good? Suggest some *baseline* (i.e. a stupid \"model\" we hope ours is better than) we can compare the model against.\n",
    "\n",
    "[3 marks]"
   ]
  },
  {
   "cell_type": "code",
   "execution_count": null,
   "metadata": {},
   "outputs": [],
   "source": []
  },
  {
   "cell_type": "markdown",
   "metadata": {},
   "source": [
    "Suggest some improvements you could make to your language model.\n",
    "\n",
    "[3 marks]"
   ]
  },
  {
   "cell_type": "code",
   "execution_count": null,
   "metadata": {},
   "outputs": [],
   "source": []
  },
  {
   "cell_type": "markdown",
   "metadata": {},
   "source": [
    "Suggest some other metrics we can use to evaluate our system\n",
    "\n",
    "[2 marks]"
   ]
  },
  {
   "cell_type": "code",
   "execution_count": null,
   "metadata": {},
   "outputs": [],
   "source": []
  },
  {
   "cell_type": "markdown",
   "metadata": {},
   "source": [
    "# Literature\n",
    "\n",
    "\n",
    "Neural architectures:\n",
    "* Y. Bengio, R. Ducharme, P. Vincent, and C. Janvin. A neural probabilistic language model. (Links to an external site.) Journal of Machine Learning Research, 3(6):1137–1155, 2003. (Sections 3 and 4 are less relevant today and hence you can glance through them quickly. Instead, look at the Mikolov papers where they describe training word embeddings with the current neural network architectures.)\n",
    "* T. Mikolov, K. Chen, G. Corrado, and J. Dean. Efficient estimation of word representations in vector space. arXiv preprint arXiv:1301.3781, 2013.\n",
    "* T. Mikolov, I. Sutskever, K. Chen, G. S. Corrado, and J. Dean. Distributed representations of words and phrases and their compositionality. In Advances in neural information processing systems, pages 3111–3119, 2013.\n",
    "    \n"
   ]
  },
  {
   "cell_type": "markdown",
   "metadata": {},
   "source": [
    "Total marks: 63"
   ]
  }
 ],
 "metadata": {
  "kernelspec": {
   "display_name": "venv_lt2213",
   "language": "python",
   "name": "venv_lt2213"
  },
  "language_info": {
   "codemirror_mode": {
    "name": "ipython",
    "version": 3
   },
   "file_extension": ".py",
   "mimetype": "text/x-python",
   "name": "python",
   "nbconvert_exporter": "python",
   "pygments_lexer": "ipython3",
   "version": "3.9.10"
  }
 },
 "nbformat": 4,
 "nbformat_minor": 4
}
